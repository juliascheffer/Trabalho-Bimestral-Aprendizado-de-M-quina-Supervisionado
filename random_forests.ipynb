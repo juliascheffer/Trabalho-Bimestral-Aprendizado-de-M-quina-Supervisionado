{
  "nbformat": 4,
  "nbformat_minor": 0,
  "metadata": {
    "colab": {
      "provenance": []
    },
    "kernelspec": {
      "name": "python3",
      "display_name": "Python 3"
    },
    "language_info": {
      "name": "python"
    }
  },
  "cells": [
    {
      "cell_type": "markdown",
      "source": [
        "Random Forests\n",
        "\n",
        "Este projeto tem por objetivo desenvolver um algoritmo de Machine Learning para análise de performance de alunos em provas"
      ],
      "metadata": {
        "id": "V6UjkNX_kdi3"
      }
    },
    {
      "cell_type": "markdown",
      "source": [
        "Os dados foram extraídos do site do Kaggle:\n",
        "https://www.kaggle.com/datasets/whenamancodes/students-performance-in-exams"
      ],
      "metadata": {
        "id": "NXV2ISaLkxdp"
      }
    },
    {
      "cell_type": "code",
      "source": [
        "import numpy as np\n",
        "import pandas as pd"
      ],
      "metadata": {
        "id": "ge5Bq8EelP42"
      },
      "execution_count": null,
      "outputs": []
    },
    {
      "cell_type": "code",
      "source": [
        "from google.colab import drive\n",
        "drive.mount('/content/drive')"
      ],
      "metadata": {
        "colab": {
          "base_uri": "https://localhost:8080/"
        },
        "id": "QuZjrXPVlUgN",
        "outputId": "5cac1b47-737d-4e54-9598-4a34d7a78f84"
      },
      "execution_count": null,
      "outputs": [
        {
          "output_type": "stream",
          "name": "stdout",
          "text": [
            "Mounted at /content/drive\n"
          ]
        }
      ]
    },
    {
      "cell_type": "code",
      "source": [
        "import warnings\n",
        "warnings.filterwarnings(\"ignore\")"
      ],
      "metadata": {
        "id": "mmqoCz0yljy9"
      },
      "execution_count": null,
      "outputs": []
    },
    {
      "cell_type": "code",
      "source": [
        "df = pd.read_csv('/content/drive/MyDrive/DataScience/trab3/exams-tratados1.csv', escapechar='\\\\', encoding='utf-8')"
      ],
      "metadata": {
        "id": "bXGEUDl1ltmH"
      },
      "execution_count": null,
      "outputs": []
    },
    {
      "cell_type": "code",
      "source": [
        "df.head(7)"
      ],
      "metadata": {
        "colab": {
          "base_uri": "https://localhost:8080/",
          "height": 269
        },
        "id": "Zpu7YkE6l3IF",
        "outputId": "2e044bd7-8acc-4458-cdcb-a7f0d4f4b616"
      },
      "execution_count": null,
      "outputs": [
        {
          "output_type": "execute_result",
          "data": {
            "text/plain": [
              "   gender race/ethnicity parental level of education         lunch  \\\n",
              "0    male        group A                 high school      standard   \n",
              "1  female        group D            some high school  free/reduced   \n",
              "2    male        group E                some college  free/reduced   \n",
              "3    male        group B                 high school      standard   \n",
              "4    male        group E          associate's degree      standard   \n",
              "5  female        group D                 high school      standard   \n",
              "6  female        group A           bachelor's degree      standard   \n",
              "\n",
              "  test preparation course  math score  reading score  writing score  \n",
              "0               completed          67             67             63  \n",
              "1                    none          40             59             55  \n",
              "2                    none          59             60             50  \n",
              "3                    none          77             78             68  \n",
              "4               completed          78             73             68  \n",
              "5                    none          63             77             76  \n",
              "6                    none          62             59             63  "
            ],
            "text/html": [
              "\n",
              "  <div id=\"df-1215cc5d-c0c4-4b25-a2b7-28ba5cb865fc\">\n",
              "    <div class=\"colab-df-container\">\n",
              "      <div>\n",
              "<style scoped>\n",
              "    .dataframe tbody tr th:only-of-type {\n",
              "        vertical-align: middle;\n",
              "    }\n",
              "\n",
              "    .dataframe tbody tr th {\n",
              "        vertical-align: top;\n",
              "    }\n",
              "\n",
              "    .dataframe thead th {\n",
              "        text-align: right;\n",
              "    }\n",
              "</style>\n",
              "<table border=\"1\" class=\"dataframe\">\n",
              "  <thead>\n",
              "    <tr style=\"text-align: right;\">\n",
              "      <th></th>\n",
              "      <th>gender</th>\n",
              "      <th>race/ethnicity</th>\n",
              "      <th>parental level of education</th>\n",
              "      <th>lunch</th>\n",
              "      <th>test preparation course</th>\n",
              "      <th>math score</th>\n",
              "      <th>reading score</th>\n",
              "      <th>writing score</th>\n",
              "    </tr>\n",
              "  </thead>\n",
              "  <tbody>\n",
              "    <tr>\n",
              "      <th>0</th>\n",
              "      <td>male</td>\n",
              "      <td>group A</td>\n",
              "      <td>high school</td>\n",
              "      <td>standard</td>\n",
              "      <td>completed</td>\n",
              "      <td>67</td>\n",
              "      <td>67</td>\n",
              "      <td>63</td>\n",
              "    </tr>\n",
              "    <tr>\n",
              "      <th>1</th>\n",
              "      <td>female</td>\n",
              "      <td>group D</td>\n",
              "      <td>some high school</td>\n",
              "      <td>free/reduced</td>\n",
              "      <td>none</td>\n",
              "      <td>40</td>\n",
              "      <td>59</td>\n",
              "      <td>55</td>\n",
              "    </tr>\n",
              "    <tr>\n",
              "      <th>2</th>\n",
              "      <td>male</td>\n",
              "      <td>group E</td>\n",
              "      <td>some college</td>\n",
              "      <td>free/reduced</td>\n",
              "      <td>none</td>\n",
              "      <td>59</td>\n",
              "      <td>60</td>\n",
              "      <td>50</td>\n",
              "    </tr>\n",
              "    <tr>\n",
              "      <th>3</th>\n",
              "      <td>male</td>\n",
              "      <td>group B</td>\n",
              "      <td>high school</td>\n",
              "      <td>standard</td>\n",
              "      <td>none</td>\n",
              "      <td>77</td>\n",
              "      <td>78</td>\n",
              "      <td>68</td>\n",
              "    </tr>\n",
              "    <tr>\n",
              "      <th>4</th>\n",
              "      <td>male</td>\n",
              "      <td>group E</td>\n",
              "      <td>associate's degree</td>\n",
              "      <td>standard</td>\n",
              "      <td>completed</td>\n",
              "      <td>78</td>\n",
              "      <td>73</td>\n",
              "      <td>68</td>\n",
              "    </tr>\n",
              "    <tr>\n",
              "      <th>5</th>\n",
              "      <td>female</td>\n",
              "      <td>group D</td>\n",
              "      <td>high school</td>\n",
              "      <td>standard</td>\n",
              "      <td>none</td>\n",
              "      <td>63</td>\n",
              "      <td>77</td>\n",
              "      <td>76</td>\n",
              "    </tr>\n",
              "    <tr>\n",
              "      <th>6</th>\n",
              "      <td>female</td>\n",
              "      <td>group A</td>\n",
              "      <td>bachelor's degree</td>\n",
              "      <td>standard</td>\n",
              "      <td>none</td>\n",
              "      <td>62</td>\n",
              "      <td>59</td>\n",
              "      <td>63</td>\n",
              "    </tr>\n",
              "  </tbody>\n",
              "</table>\n",
              "</div>\n",
              "      <button class=\"colab-df-convert\" onclick=\"convertToInteractive('df-1215cc5d-c0c4-4b25-a2b7-28ba5cb865fc')\"\n",
              "              title=\"Convert this dataframe to an interactive table.\"\n",
              "              style=\"display:none;\">\n",
              "        \n",
              "  <svg xmlns=\"http://www.w3.org/2000/svg\" height=\"24px\"viewBox=\"0 0 24 24\"\n",
              "       width=\"24px\">\n",
              "    <path d=\"M0 0h24v24H0V0z\" fill=\"none\"/>\n",
              "    <path d=\"M18.56 5.44l.94 2.06.94-2.06 2.06-.94-2.06-.94-.94-2.06-.94 2.06-2.06.94zm-11 1L8.5 8.5l.94-2.06 2.06-.94-2.06-.94L8.5 2.5l-.94 2.06-2.06.94zm10 10l.94 2.06.94-2.06 2.06-.94-2.06-.94-.94-2.06-.94 2.06-2.06.94z\"/><path d=\"M17.41 7.96l-1.37-1.37c-.4-.4-.92-.59-1.43-.59-.52 0-1.04.2-1.43.59L10.3 9.45l-7.72 7.72c-.78.78-.78 2.05 0 2.83L4 21.41c.39.39.9.59 1.41.59.51 0 1.02-.2 1.41-.59l7.78-7.78 2.81-2.81c.8-.78.8-2.07 0-2.86zM5.41 20L4 18.59l7.72-7.72 1.47 1.35L5.41 20z\"/>\n",
              "  </svg>\n",
              "      </button>\n",
              "      \n",
              "  <style>\n",
              "    .colab-df-container {\n",
              "      display:flex;\n",
              "      flex-wrap:wrap;\n",
              "      gap: 12px;\n",
              "    }\n",
              "\n",
              "    .colab-df-convert {\n",
              "      background-color: #E8F0FE;\n",
              "      border: none;\n",
              "      border-radius: 50%;\n",
              "      cursor: pointer;\n",
              "      display: none;\n",
              "      fill: #1967D2;\n",
              "      height: 32px;\n",
              "      padding: 0 0 0 0;\n",
              "      width: 32px;\n",
              "    }\n",
              "\n",
              "    .colab-df-convert:hover {\n",
              "      background-color: #E2EBFA;\n",
              "      box-shadow: 0px 1px 2px rgba(60, 64, 67, 0.3), 0px 1px 3px 1px rgba(60, 64, 67, 0.15);\n",
              "      fill: #174EA6;\n",
              "    }\n",
              "\n",
              "    [theme=dark] .colab-df-convert {\n",
              "      background-color: #3B4455;\n",
              "      fill: #D2E3FC;\n",
              "    }\n",
              "\n",
              "    [theme=dark] .colab-df-convert:hover {\n",
              "      background-color: #434B5C;\n",
              "      box-shadow: 0px 1px 3px 1px rgba(0, 0, 0, 0.15);\n",
              "      filter: drop-shadow(0px 1px 2px rgba(0, 0, 0, 0.3));\n",
              "      fill: #FFFFFF;\n",
              "    }\n",
              "  </style>\n",
              "\n",
              "      <script>\n",
              "        const buttonEl =\n",
              "          document.querySelector('#df-1215cc5d-c0c4-4b25-a2b7-28ba5cb865fc button.colab-df-convert');\n",
              "        buttonEl.style.display =\n",
              "          google.colab.kernel.accessAllowed ? 'block' : 'none';\n",
              "\n",
              "        async function convertToInteractive(key) {\n",
              "          const element = document.querySelector('#df-1215cc5d-c0c4-4b25-a2b7-28ba5cb865fc');\n",
              "          const dataTable =\n",
              "            await google.colab.kernel.invokeFunction('convertToInteractive',\n",
              "                                                     [key], {});\n",
              "          if (!dataTable) return;\n",
              "\n",
              "          const docLinkHtml = 'Like what you see? Visit the ' +\n",
              "            '<a target=\"_blank\" href=https://colab.research.google.com/notebooks/data_table.ipynb>data table notebook</a>'\n",
              "            + ' to learn more about interactive tables.';\n",
              "          element.innerHTML = '';\n",
              "          dataTable['output_type'] = 'display_data';\n",
              "          await google.colab.output.renderOutput(dataTable, element);\n",
              "          const docLink = document.createElement('div');\n",
              "          docLink.innerHTML = docLinkHtml;\n",
              "          element.appendChild(docLink);\n",
              "        }\n",
              "      </script>\n",
              "    </div>\n",
              "  </div>\n",
              "  "
            ]
          },
          "metadata": {},
          "execution_count": 5
        }
      ]
    },
    {
      "cell_type": "code",
      "source": [
        "rep_df = df.replace([\"associate's degree\", \"bachelor's degree\", \"master's degree\"], [\"associates degree\", \"bachelors degree\", \"masters degree\"])\n",
        "rep_df.head(7)"
      ],
      "metadata": {
        "colab": {
          "base_uri": "https://localhost:8080/",
          "height": 269
        },
        "id": "yFhPFFbOl8ri",
        "outputId": "d26b0a19-b4c6-492d-cf01-4959662d3764"
      },
      "execution_count": null,
      "outputs": [
        {
          "output_type": "execute_result",
          "data": {
            "text/plain": [
              "   gender race/ethnicity parental level of education         lunch  \\\n",
              "0    male        group A                 high school      standard   \n",
              "1  female        group D            some high school  free/reduced   \n",
              "2    male        group E                some college  free/reduced   \n",
              "3    male        group B                 high school      standard   \n",
              "4    male        group E           associates degree      standard   \n",
              "5  female        group D                 high school      standard   \n",
              "6  female        group A            bachelors degree      standard   \n",
              "\n",
              "  test preparation course  math score  reading score  writing score  \n",
              "0               completed          67             67             63  \n",
              "1                    none          40             59             55  \n",
              "2                    none          59             60             50  \n",
              "3                    none          77             78             68  \n",
              "4               completed          78             73             68  \n",
              "5                    none          63             77             76  \n",
              "6                    none          62             59             63  "
            ],
            "text/html": [
              "\n",
              "  <div id=\"df-864a8ebf-592c-4963-82b0-4b7c02d46a69\">\n",
              "    <div class=\"colab-df-container\">\n",
              "      <div>\n",
              "<style scoped>\n",
              "    .dataframe tbody tr th:only-of-type {\n",
              "        vertical-align: middle;\n",
              "    }\n",
              "\n",
              "    .dataframe tbody tr th {\n",
              "        vertical-align: top;\n",
              "    }\n",
              "\n",
              "    .dataframe thead th {\n",
              "        text-align: right;\n",
              "    }\n",
              "</style>\n",
              "<table border=\"1\" class=\"dataframe\">\n",
              "  <thead>\n",
              "    <tr style=\"text-align: right;\">\n",
              "      <th></th>\n",
              "      <th>gender</th>\n",
              "      <th>race/ethnicity</th>\n",
              "      <th>parental level of education</th>\n",
              "      <th>lunch</th>\n",
              "      <th>test preparation course</th>\n",
              "      <th>math score</th>\n",
              "      <th>reading score</th>\n",
              "      <th>writing score</th>\n",
              "    </tr>\n",
              "  </thead>\n",
              "  <tbody>\n",
              "    <tr>\n",
              "      <th>0</th>\n",
              "      <td>male</td>\n",
              "      <td>group A</td>\n",
              "      <td>high school</td>\n",
              "      <td>standard</td>\n",
              "      <td>completed</td>\n",
              "      <td>67</td>\n",
              "      <td>67</td>\n",
              "      <td>63</td>\n",
              "    </tr>\n",
              "    <tr>\n",
              "      <th>1</th>\n",
              "      <td>female</td>\n",
              "      <td>group D</td>\n",
              "      <td>some high school</td>\n",
              "      <td>free/reduced</td>\n",
              "      <td>none</td>\n",
              "      <td>40</td>\n",
              "      <td>59</td>\n",
              "      <td>55</td>\n",
              "    </tr>\n",
              "    <tr>\n",
              "      <th>2</th>\n",
              "      <td>male</td>\n",
              "      <td>group E</td>\n",
              "      <td>some college</td>\n",
              "      <td>free/reduced</td>\n",
              "      <td>none</td>\n",
              "      <td>59</td>\n",
              "      <td>60</td>\n",
              "      <td>50</td>\n",
              "    </tr>\n",
              "    <tr>\n",
              "      <th>3</th>\n",
              "      <td>male</td>\n",
              "      <td>group B</td>\n",
              "      <td>high school</td>\n",
              "      <td>standard</td>\n",
              "      <td>none</td>\n",
              "      <td>77</td>\n",
              "      <td>78</td>\n",
              "      <td>68</td>\n",
              "    </tr>\n",
              "    <tr>\n",
              "      <th>4</th>\n",
              "      <td>male</td>\n",
              "      <td>group E</td>\n",
              "      <td>associates degree</td>\n",
              "      <td>standard</td>\n",
              "      <td>completed</td>\n",
              "      <td>78</td>\n",
              "      <td>73</td>\n",
              "      <td>68</td>\n",
              "    </tr>\n",
              "    <tr>\n",
              "      <th>5</th>\n",
              "      <td>female</td>\n",
              "      <td>group D</td>\n",
              "      <td>high school</td>\n",
              "      <td>standard</td>\n",
              "      <td>none</td>\n",
              "      <td>63</td>\n",
              "      <td>77</td>\n",
              "      <td>76</td>\n",
              "    </tr>\n",
              "    <tr>\n",
              "      <th>6</th>\n",
              "      <td>female</td>\n",
              "      <td>group A</td>\n",
              "      <td>bachelors degree</td>\n",
              "      <td>standard</td>\n",
              "      <td>none</td>\n",
              "      <td>62</td>\n",
              "      <td>59</td>\n",
              "      <td>63</td>\n",
              "    </tr>\n",
              "  </tbody>\n",
              "</table>\n",
              "</div>\n",
              "      <button class=\"colab-df-convert\" onclick=\"convertToInteractive('df-864a8ebf-592c-4963-82b0-4b7c02d46a69')\"\n",
              "              title=\"Convert this dataframe to an interactive table.\"\n",
              "              style=\"display:none;\">\n",
              "        \n",
              "  <svg xmlns=\"http://www.w3.org/2000/svg\" height=\"24px\"viewBox=\"0 0 24 24\"\n",
              "       width=\"24px\">\n",
              "    <path d=\"M0 0h24v24H0V0z\" fill=\"none\"/>\n",
              "    <path d=\"M18.56 5.44l.94 2.06.94-2.06 2.06-.94-2.06-.94-.94-2.06-.94 2.06-2.06.94zm-11 1L8.5 8.5l.94-2.06 2.06-.94-2.06-.94L8.5 2.5l-.94 2.06-2.06.94zm10 10l.94 2.06.94-2.06 2.06-.94-2.06-.94-.94-2.06-.94 2.06-2.06.94z\"/><path d=\"M17.41 7.96l-1.37-1.37c-.4-.4-.92-.59-1.43-.59-.52 0-1.04.2-1.43.59L10.3 9.45l-7.72 7.72c-.78.78-.78 2.05 0 2.83L4 21.41c.39.39.9.59 1.41.59.51 0 1.02-.2 1.41-.59l7.78-7.78 2.81-2.81c.8-.78.8-2.07 0-2.86zM5.41 20L4 18.59l7.72-7.72 1.47 1.35L5.41 20z\"/>\n",
              "  </svg>\n",
              "      </button>\n",
              "      \n",
              "  <style>\n",
              "    .colab-df-container {\n",
              "      display:flex;\n",
              "      flex-wrap:wrap;\n",
              "      gap: 12px;\n",
              "    }\n",
              "\n",
              "    .colab-df-convert {\n",
              "      background-color: #E8F0FE;\n",
              "      border: none;\n",
              "      border-radius: 50%;\n",
              "      cursor: pointer;\n",
              "      display: none;\n",
              "      fill: #1967D2;\n",
              "      height: 32px;\n",
              "      padding: 0 0 0 0;\n",
              "      width: 32px;\n",
              "    }\n",
              "\n",
              "    .colab-df-convert:hover {\n",
              "      background-color: #E2EBFA;\n",
              "      box-shadow: 0px 1px 2px rgba(60, 64, 67, 0.3), 0px 1px 3px 1px rgba(60, 64, 67, 0.15);\n",
              "      fill: #174EA6;\n",
              "    }\n",
              "\n",
              "    [theme=dark] .colab-df-convert {\n",
              "      background-color: #3B4455;\n",
              "      fill: #D2E3FC;\n",
              "    }\n",
              "\n",
              "    [theme=dark] .colab-df-convert:hover {\n",
              "      background-color: #434B5C;\n",
              "      box-shadow: 0px 1px 3px 1px rgba(0, 0, 0, 0.15);\n",
              "      filter: drop-shadow(0px 1px 2px rgba(0, 0, 0, 0.3));\n",
              "      fill: #FFFFFF;\n",
              "    }\n",
              "  </style>\n",
              "\n",
              "      <script>\n",
              "        const buttonEl =\n",
              "          document.querySelector('#df-864a8ebf-592c-4963-82b0-4b7c02d46a69 button.colab-df-convert');\n",
              "        buttonEl.style.display =\n",
              "          google.colab.kernel.accessAllowed ? 'block' : 'none';\n",
              "\n",
              "        async function convertToInteractive(key) {\n",
              "          const element = document.querySelector('#df-864a8ebf-592c-4963-82b0-4b7c02d46a69');\n",
              "          const dataTable =\n",
              "            await google.colab.kernel.invokeFunction('convertToInteractive',\n",
              "                                                     [key], {});\n",
              "          if (!dataTable) return;\n",
              "\n",
              "          const docLinkHtml = 'Like what you see? Visit the ' +\n",
              "            '<a target=\"_blank\" href=https://colab.research.google.com/notebooks/data_table.ipynb>data table notebook</a>'\n",
              "            + ' to learn more about interactive tables.';\n",
              "          element.innerHTML = '';\n",
              "          dataTable['output_type'] = 'display_data';\n",
              "          await google.colab.output.renderOutput(dataTable, element);\n",
              "          const docLink = document.createElement('div');\n",
              "          docLink.innerHTML = docLinkHtml;\n",
              "          element.appendChild(docLink);\n",
              "        }\n",
              "      </script>\n",
              "    </div>\n",
              "  </div>\n",
              "  "
            ]
          },
          "metadata": {},
          "execution_count": 6
        }
      ]
    },
    {
      "cell_type": "code",
      "source": [
        "rep_df.shape"
      ],
      "metadata": {
        "colab": {
          "base_uri": "https://localhost:8080/"
        },
        "id": "Y893HJN0mAcz",
        "outputId": "b13a97db-e716-4c2d-c3e0-c2dcaba6a5c3"
      },
      "execution_count": null,
      "outputs": [
        {
          "output_type": "execute_result",
          "data": {
            "text/plain": [
              "(1000, 8)"
            ]
          },
          "metadata": {},
          "execution_count": 7
        }
      ]
    },
    {
      "cell_type": "code",
      "source": [
        "# Transformando as variáveis categóricas nominais em variáveis categóricas ordinais\n",
        "df2 = pd.DataFrame.copy(rep_df)"
      ],
      "metadata": {
        "id": "Pps0UfJImHUQ"
      },
      "execution_count": null,
      "outputs": []
    },
    {
      "cell_type": "code",
      "source": [
        "df2['gender'].replace({'male':0, 'female': 1}, inplace=True)\n",
        "df2['race/ethnicity'].replace({'group A':0, 'group B': 1, 'group C': 2, 'group D': 3, 'group E': 4}, inplace=True)\n",
        "df2['lunch'].replace({'standard':0, 'free/reduced': 1}, inplace=True)\n",
        "df2['test preparation course'].replace({'completed':0, 'none': 1}, inplace=True)\n",
        "df2['parental level of education'].replace({'some high school':0, 'high school': 1, 'some college': 2, \n",
        "                                           'bachelors degree': 3, 'associates degree': 4, 'masters degree': 5}, inplace=True)"
      ],
      "metadata": {
        "id": "w7l0-ODgmTC5"
      },
      "execution_count": null,
      "outputs": []
    },
    {
      "cell_type": "code",
      "source": [
        "df2.head(10)"
      ],
      "metadata": {
        "colab": {
          "base_uri": "https://localhost:8080/",
          "height": 363
        },
        "id": "GzuROkSpmXEx",
        "outputId": "c5833609-83ca-4ca8-efa9-0690f2ba9359"
      },
      "execution_count": null,
      "outputs": [
        {
          "output_type": "execute_result",
          "data": {
            "text/plain": [
              "   gender  race/ethnicity  parental level of education  lunch  \\\n",
              "0       0               0                            1      0   \n",
              "1       1               3                            0      1   \n",
              "2       0               4                            2      1   \n",
              "3       0               1                            1      0   \n",
              "4       0               4                            4      0   \n",
              "5       1               3                            1      0   \n",
              "6       1               0                            3      0   \n",
              "7       0               4                            2      0   \n",
              "8       0               3                            1      0   \n",
              "9       0               2                            2      1   \n",
              "\n",
              "   test preparation course  math score  reading score  writing score  \n",
              "0                        0          67             67             63  \n",
              "1                        1          40             59             55  \n",
              "2                        1          59             60             50  \n",
              "3                        1          77             78             68  \n",
              "4                        0          78             73             68  \n",
              "5                        1          63             77             76  \n",
              "6                        1          62             59             63  \n",
              "7                        0          93             88             84  \n",
              "8                        1          63             56             65  \n",
              "9                        1          47             42             45  "
            ],
            "text/html": [
              "\n",
              "  <div id=\"df-0d640649-d5c3-4c91-ba88-79d65da91bf4\">\n",
              "    <div class=\"colab-df-container\">\n",
              "      <div>\n",
              "<style scoped>\n",
              "    .dataframe tbody tr th:only-of-type {\n",
              "        vertical-align: middle;\n",
              "    }\n",
              "\n",
              "    .dataframe tbody tr th {\n",
              "        vertical-align: top;\n",
              "    }\n",
              "\n",
              "    .dataframe thead th {\n",
              "        text-align: right;\n",
              "    }\n",
              "</style>\n",
              "<table border=\"1\" class=\"dataframe\">\n",
              "  <thead>\n",
              "    <tr style=\"text-align: right;\">\n",
              "      <th></th>\n",
              "      <th>gender</th>\n",
              "      <th>race/ethnicity</th>\n",
              "      <th>parental level of education</th>\n",
              "      <th>lunch</th>\n",
              "      <th>test preparation course</th>\n",
              "      <th>math score</th>\n",
              "      <th>reading score</th>\n",
              "      <th>writing score</th>\n",
              "    </tr>\n",
              "  </thead>\n",
              "  <tbody>\n",
              "    <tr>\n",
              "      <th>0</th>\n",
              "      <td>0</td>\n",
              "      <td>0</td>\n",
              "      <td>1</td>\n",
              "      <td>0</td>\n",
              "      <td>0</td>\n",
              "      <td>67</td>\n",
              "      <td>67</td>\n",
              "      <td>63</td>\n",
              "    </tr>\n",
              "    <tr>\n",
              "      <th>1</th>\n",
              "      <td>1</td>\n",
              "      <td>3</td>\n",
              "      <td>0</td>\n",
              "      <td>1</td>\n",
              "      <td>1</td>\n",
              "      <td>40</td>\n",
              "      <td>59</td>\n",
              "      <td>55</td>\n",
              "    </tr>\n",
              "    <tr>\n",
              "      <th>2</th>\n",
              "      <td>0</td>\n",
              "      <td>4</td>\n",
              "      <td>2</td>\n",
              "      <td>1</td>\n",
              "      <td>1</td>\n",
              "      <td>59</td>\n",
              "      <td>60</td>\n",
              "      <td>50</td>\n",
              "    </tr>\n",
              "    <tr>\n",
              "      <th>3</th>\n",
              "      <td>0</td>\n",
              "      <td>1</td>\n",
              "      <td>1</td>\n",
              "      <td>0</td>\n",
              "      <td>1</td>\n",
              "      <td>77</td>\n",
              "      <td>78</td>\n",
              "      <td>68</td>\n",
              "    </tr>\n",
              "    <tr>\n",
              "      <th>4</th>\n",
              "      <td>0</td>\n",
              "      <td>4</td>\n",
              "      <td>4</td>\n",
              "      <td>0</td>\n",
              "      <td>0</td>\n",
              "      <td>78</td>\n",
              "      <td>73</td>\n",
              "      <td>68</td>\n",
              "    </tr>\n",
              "    <tr>\n",
              "      <th>5</th>\n",
              "      <td>1</td>\n",
              "      <td>3</td>\n",
              "      <td>1</td>\n",
              "      <td>0</td>\n",
              "      <td>1</td>\n",
              "      <td>63</td>\n",
              "      <td>77</td>\n",
              "      <td>76</td>\n",
              "    </tr>\n",
              "    <tr>\n",
              "      <th>6</th>\n",
              "      <td>1</td>\n",
              "      <td>0</td>\n",
              "      <td>3</td>\n",
              "      <td>0</td>\n",
              "      <td>1</td>\n",
              "      <td>62</td>\n",
              "      <td>59</td>\n",
              "      <td>63</td>\n",
              "    </tr>\n",
              "    <tr>\n",
              "      <th>7</th>\n",
              "      <td>0</td>\n",
              "      <td>4</td>\n",
              "      <td>2</td>\n",
              "      <td>0</td>\n",
              "      <td>0</td>\n",
              "      <td>93</td>\n",
              "      <td>88</td>\n",
              "      <td>84</td>\n",
              "    </tr>\n",
              "    <tr>\n",
              "      <th>8</th>\n",
              "      <td>0</td>\n",
              "      <td>3</td>\n",
              "      <td>1</td>\n",
              "      <td>0</td>\n",
              "      <td>1</td>\n",
              "      <td>63</td>\n",
              "      <td>56</td>\n",
              "      <td>65</td>\n",
              "    </tr>\n",
              "    <tr>\n",
              "      <th>9</th>\n",
              "      <td>0</td>\n",
              "      <td>2</td>\n",
              "      <td>2</td>\n",
              "      <td>1</td>\n",
              "      <td>1</td>\n",
              "      <td>47</td>\n",
              "      <td>42</td>\n",
              "      <td>45</td>\n",
              "    </tr>\n",
              "  </tbody>\n",
              "</table>\n",
              "</div>\n",
              "      <button class=\"colab-df-convert\" onclick=\"convertToInteractive('df-0d640649-d5c3-4c91-ba88-79d65da91bf4')\"\n",
              "              title=\"Convert this dataframe to an interactive table.\"\n",
              "              style=\"display:none;\">\n",
              "        \n",
              "  <svg xmlns=\"http://www.w3.org/2000/svg\" height=\"24px\"viewBox=\"0 0 24 24\"\n",
              "       width=\"24px\">\n",
              "    <path d=\"M0 0h24v24H0V0z\" fill=\"none\"/>\n",
              "    <path d=\"M18.56 5.44l.94 2.06.94-2.06 2.06-.94-2.06-.94-.94-2.06-.94 2.06-2.06.94zm-11 1L8.5 8.5l.94-2.06 2.06-.94-2.06-.94L8.5 2.5l-.94 2.06-2.06.94zm10 10l.94 2.06.94-2.06 2.06-.94-2.06-.94-.94-2.06-.94 2.06-2.06.94z\"/><path d=\"M17.41 7.96l-1.37-1.37c-.4-.4-.92-.59-1.43-.59-.52 0-1.04.2-1.43.59L10.3 9.45l-7.72 7.72c-.78.78-.78 2.05 0 2.83L4 21.41c.39.39.9.59 1.41.59.51 0 1.02-.2 1.41-.59l7.78-7.78 2.81-2.81c.8-.78.8-2.07 0-2.86zM5.41 20L4 18.59l7.72-7.72 1.47 1.35L5.41 20z\"/>\n",
              "  </svg>\n",
              "      </button>\n",
              "      \n",
              "  <style>\n",
              "    .colab-df-container {\n",
              "      display:flex;\n",
              "      flex-wrap:wrap;\n",
              "      gap: 12px;\n",
              "    }\n",
              "\n",
              "    .colab-df-convert {\n",
              "      background-color: #E8F0FE;\n",
              "      border: none;\n",
              "      border-radius: 50%;\n",
              "      cursor: pointer;\n",
              "      display: none;\n",
              "      fill: #1967D2;\n",
              "      height: 32px;\n",
              "      padding: 0 0 0 0;\n",
              "      width: 32px;\n",
              "    }\n",
              "\n",
              "    .colab-df-convert:hover {\n",
              "      background-color: #E2EBFA;\n",
              "      box-shadow: 0px 1px 2px rgba(60, 64, 67, 0.3), 0px 1px 3px 1px rgba(60, 64, 67, 0.15);\n",
              "      fill: #174EA6;\n",
              "    }\n",
              "\n",
              "    [theme=dark] .colab-df-convert {\n",
              "      background-color: #3B4455;\n",
              "      fill: #D2E3FC;\n",
              "    }\n",
              "\n",
              "    [theme=dark] .colab-df-convert:hover {\n",
              "      background-color: #434B5C;\n",
              "      box-shadow: 0px 1px 3px 1px rgba(0, 0, 0, 0.15);\n",
              "      filter: drop-shadow(0px 1px 2px rgba(0, 0, 0, 0.3));\n",
              "      fill: #FFFFFF;\n",
              "    }\n",
              "  </style>\n",
              "\n",
              "      <script>\n",
              "        const buttonEl =\n",
              "          document.querySelector('#df-0d640649-d5c3-4c91-ba88-79d65da91bf4 button.colab-df-convert');\n",
              "        buttonEl.style.display =\n",
              "          google.colab.kernel.accessAllowed ? 'block' : 'none';\n",
              "\n",
              "        async function convertToInteractive(key) {\n",
              "          const element = document.querySelector('#df-0d640649-d5c3-4c91-ba88-79d65da91bf4');\n",
              "          const dataTable =\n",
              "            await google.colab.kernel.invokeFunction('convertToInteractive',\n",
              "                                                     [key], {});\n",
              "          if (!dataTable) return;\n",
              "\n",
              "          const docLinkHtml = 'Like what you see? Visit the ' +\n",
              "            '<a target=\"_blank\" href=https://colab.research.google.com/notebooks/data_table.ipynb>data table notebook</a>'\n",
              "            + ' to learn more about interactive tables.';\n",
              "          element.innerHTML = '';\n",
              "          dataTable['output_type'] = 'display_data';\n",
              "          await google.colab.output.renderOutput(dataTable, element);\n",
              "          const docLink = document.createElement('div');\n",
              "          docLink.innerHTML = docLinkHtml;\n",
              "          element.appendChild(docLink);\n",
              "        }\n",
              "      </script>\n",
              "    </div>\n",
              "  </div>\n",
              "  "
            ]
          },
          "metadata": {},
          "execution_count": 10
        }
      ]
    },
    {
      "cell_type": "code",
      "source": [
        "df2.dtypes"
      ],
      "metadata": {
        "colab": {
          "base_uri": "https://localhost:8080/"
        },
        "id": "BiF0T4-Rmb3g",
        "outputId": "4afa03ef-a58f-4ba6-9bdc-f479dc015c86"
      },
      "execution_count": null,
      "outputs": [
        {
          "output_type": "execute_result",
          "data": {
            "text/plain": [
              "gender                         int64\n",
              "race/ethnicity                 int64\n",
              "parental level of education    int64\n",
              "lunch                          int64\n",
              "test preparation course        int64\n",
              "math score                     int64\n",
              "reading score                  int64\n",
              "writing score                  int64\n",
              "dtype: object"
            ]
          },
          "metadata": {},
          "execution_count": 11
        }
      ]
    },
    {
      "cell_type": "code",
      "source": [
        "df2.shape"
      ],
      "metadata": {
        "colab": {
          "base_uri": "https://localhost:8080/"
        },
        "id": "vPa9gnMLmgQ_",
        "outputId": "cc1189a9-faf8-4b09-dbbf-949b8bfa15bb"
      },
      "execution_count": null,
      "outputs": [
        {
          "output_type": "execute_result",
          "data": {
            "text/plain": [
              "(1000, 8)"
            ]
          },
          "metadata": {},
          "execution_count": 12
        }
      ]
    },
    {
      "cell_type": "markdown",
      "source": [
        "Legenda:\n",
        "\n",
        "Gender: Gênero\n",
        "\n",
        "Race/Ethnicity: Raça ou etnia\n",
        "\n",
        "Parental Level of Education: Nível de escolaridade dos pais\n",
        "\n",
        "Luch: Almoço (se era padrão ou de graça/reduzido)\n",
        "\n",
        "Test Preparation Course: Curso preparatório para testes - sem é completo ou se não tem\n",
        "\n",
        "Math Score: Pontuação em matemática\n",
        "\n",
        "Reading Score: Pontuação em leitura\n",
        "\n",
        "Writing Score: Pontuação em escrita"
      ],
      "metadata": {
        "id": "xn1snW7PmmsL"
      }
    },
    {
      "cell_type": "code",
      "source": [
        "# ATRIBUTOS PREVISORES E ALVO\n",
        "df2.head()"
      ],
      "metadata": {
        "colab": {
          "base_uri": "https://localhost:8080/",
          "height": 206
        },
        "id": "HJn6S75Lmnlb",
        "outputId": "3c06af1a-77c8-4231-dda8-bf8a2069adc6"
      },
      "execution_count": null,
      "outputs": [
        {
          "output_type": "execute_result",
          "data": {
            "text/plain": [
              "   gender  race/ethnicity  parental level of education  lunch  \\\n",
              "0       0               0                            1      0   \n",
              "1       1               3                            0      1   \n",
              "2       0               4                            2      1   \n",
              "3       0               1                            1      0   \n",
              "4       0               4                            4      0   \n",
              "\n",
              "   test preparation course  math score  reading score  writing score  \n",
              "0                        0          67             67             63  \n",
              "1                        1          40             59             55  \n",
              "2                        1          59             60             50  \n",
              "3                        1          77             78             68  \n",
              "4                        0          78             73             68  "
            ],
            "text/html": [
              "\n",
              "  <div id=\"df-40776cba-01cf-456e-8bd6-3f810512fa8e\">\n",
              "    <div class=\"colab-df-container\">\n",
              "      <div>\n",
              "<style scoped>\n",
              "    .dataframe tbody tr th:only-of-type {\n",
              "        vertical-align: middle;\n",
              "    }\n",
              "\n",
              "    .dataframe tbody tr th {\n",
              "        vertical-align: top;\n",
              "    }\n",
              "\n",
              "    .dataframe thead th {\n",
              "        text-align: right;\n",
              "    }\n",
              "</style>\n",
              "<table border=\"1\" class=\"dataframe\">\n",
              "  <thead>\n",
              "    <tr style=\"text-align: right;\">\n",
              "      <th></th>\n",
              "      <th>gender</th>\n",
              "      <th>race/ethnicity</th>\n",
              "      <th>parental level of education</th>\n",
              "      <th>lunch</th>\n",
              "      <th>test preparation course</th>\n",
              "      <th>math score</th>\n",
              "      <th>reading score</th>\n",
              "      <th>writing score</th>\n",
              "    </tr>\n",
              "  </thead>\n",
              "  <tbody>\n",
              "    <tr>\n",
              "      <th>0</th>\n",
              "      <td>0</td>\n",
              "      <td>0</td>\n",
              "      <td>1</td>\n",
              "      <td>0</td>\n",
              "      <td>0</td>\n",
              "      <td>67</td>\n",
              "      <td>67</td>\n",
              "      <td>63</td>\n",
              "    </tr>\n",
              "    <tr>\n",
              "      <th>1</th>\n",
              "      <td>1</td>\n",
              "      <td>3</td>\n",
              "      <td>0</td>\n",
              "      <td>1</td>\n",
              "      <td>1</td>\n",
              "      <td>40</td>\n",
              "      <td>59</td>\n",
              "      <td>55</td>\n",
              "    </tr>\n",
              "    <tr>\n",
              "      <th>2</th>\n",
              "      <td>0</td>\n",
              "      <td>4</td>\n",
              "      <td>2</td>\n",
              "      <td>1</td>\n",
              "      <td>1</td>\n",
              "      <td>59</td>\n",
              "      <td>60</td>\n",
              "      <td>50</td>\n",
              "    </tr>\n",
              "    <tr>\n",
              "      <th>3</th>\n",
              "      <td>0</td>\n",
              "      <td>1</td>\n",
              "      <td>1</td>\n",
              "      <td>0</td>\n",
              "      <td>1</td>\n",
              "      <td>77</td>\n",
              "      <td>78</td>\n",
              "      <td>68</td>\n",
              "    </tr>\n",
              "    <tr>\n",
              "      <th>4</th>\n",
              "      <td>0</td>\n",
              "      <td>4</td>\n",
              "      <td>4</td>\n",
              "      <td>0</td>\n",
              "      <td>0</td>\n",
              "      <td>78</td>\n",
              "      <td>73</td>\n",
              "      <td>68</td>\n",
              "    </tr>\n",
              "  </tbody>\n",
              "</table>\n",
              "</div>\n",
              "      <button class=\"colab-df-convert\" onclick=\"convertToInteractive('df-40776cba-01cf-456e-8bd6-3f810512fa8e')\"\n",
              "              title=\"Convert this dataframe to an interactive table.\"\n",
              "              style=\"display:none;\">\n",
              "        \n",
              "  <svg xmlns=\"http://www.w3.org/2000/svg\" height=\"24px\"viewBox=\"0 0 24 24\"\n",
              "       width=\"24px\">\n",
              "    <path d=\"M0 0h24v24H0V0z\" fill=\"none\"/>\n",
              "    <path d=\"M18.56 5.44l.94 2.06.94-2.06 2.06-.94-2.06-.94-.94-2.06-.94 2.06-2.06.94zm-11 1L8.5 8.5l.94-2.06 2.06-.94-2.06-.94L8.5 2.5l-.94 2.06-2.06.94zm10 10l.94 2.06.94-2.06 2.06-.94-2.06-.94-.94-2.06-.94 2.06-2.06.94z\"/><path d=\"M17.41 7.96l-1.37-1.37c-.4-.4-.92-.59-1.43-.59-.52 0-1.04.2-1.43.59L10.3 9.45l-7.72 7.72c-.78.78-.78 2.05 0 2.83L4 21.41c.39.39.9.59 1.41.59.51 0 1.02-.2 1.41-.59l7.78-7.78 2.81-2.81c.8-.78.8-2.07 0-2.86zM5.41 20L4 18.59l7.72-7.72 1.47 1.35L5.41 20z\"/>\n",
              "  </svg>\n",
              "      </button>\n",
              "      \n",
              "  <style>\n",
              "    .colab-df-container {\n",
              "      display:flex;\n",
              "      flex-wrap:wrap;\n",
              "      gap: 12px;\n",
              "    }\n",
              "\n",
              "    .colab-df-convert {\n",
              "      background-color: #E8F0FE;\n",
              "      border: none;\n",
              "      border-radius: 50%;\n",
              "      cursor: pointer;\n",
              "      display: none;\n",
              "      fill: #1967D2;\n",
              "      height: 32px;\n",
              "      padding: 0 0 0 0;\n",
              "      width: 32px;\n",
              "    }\n",
              "\n",
              "    .colab-df-convert:hover {\n",
              "      background-color: #E2EBFA;\n",
              "      box-shadow: 0px 1px 2px rgba(60, 64, 67, 0.3), 0px 1px 3px 1px rgba(60, 64, 67, 0.15);\n",
              "      fill: #174EA6;\n",
              "    }\n",
              "\n",
              "    [theme=dark] .colab-df-convert {\n",
              "      background-color: #3B4455;\n",
              "      fill: #D2E3FC;\n",
              "    }\n",
              "\n",
              "    [theme=dark] .colab-df-convert:hover {\n",
              "      background-color: #434B5C;\n",
              "      box-shadow: 0px 1px 3px 1px rgba(0, 0, 0, 0.15);\n",
              "      filter: drop-shadow(0px 1px 2px rgba(0, 0, 0, 0.3));\n",
              "      fill: #FFFFFF;\n",
              "    }\n",
              "  </style>\n",
              "\n",
              "      <script>\n",
              "        const buttonEl =\n",
              "          document.querySelector('#df-40776cba-01cf-456e-8bd6-3f810512fa8e button.colab-df-convert');\n",
              "        buttonEl.style.display =\n",
              "          google.colab.kernel.accessAllowed ? 'block' : 'none';\n",
              "\n",
              "        async function convertToInteractive(key) {\n",
              "          const element = document.querySelector('#df-40776cba-01cf-456e-8bd6-3f810512fa8e');\n",
              "          const dataTable =\n",
              "            await google.colab.kernel.invokeFunction('convertToInteractive',\n",
              "                                                     [key], {});\n",
              "          if (!dataTable) return;\n",
              "\n",
              "          const docLinkHtml = 'Like what you see? Visit the ' +\n",
              "            '<a target=\"_blank\" href=https://colab.research.google.com/notebooks/data_table.ipynb>data table notebook</a>'\n",
              "            + ' to learn more about interactive tables.';\n",
              "          element.innerHTML = '';\n",
              "          dataTable['output_type'] = 'display_data';\n",
              "          await google.colab.output.renderOutput(dataTable, element);\n",
              "          const docLink = document.createElement('div');\n",
              "          docLink.innerHTML = docLinkHtml;\n",
              "          element.appendChild(docLink);\n",
              "        }\n",
              "      </script>\n",
              "    </div>\n",
              "  </div>\n",
              "  "
            ]
          },
          "metadata": {},
          "execution_count": 13
        }
      ]
    },
    {
      "cell_type": "code",
      "source": [
        "previsores = df2.iloc[:, 0:8].values\n",
        "previsores"
      ],
      "metadata": {
        "colab": {
          "base_uri": "https://localhost:8080/"
        },
        "id": "S-d6E5Wwm_AY",
        "outputId": "cf1853c7-2124-4b22-d38a-3f58f1eeaf75"
      },
      "execution_count": null,
      "outputs": [
        {
          "output_type": "execute_result",
          "data": {
            "text/plain": [
              "array([[ 0,  0,  1, ..., 67, 67, 63],\n",
              "       [ 1,  3,  0, ..., 40, 59, 55],\n",
              "       [ 0,  4,  2, ..., 59, 60, 50],\n",
              "       ...,\n",
              "       [ 1,  2,  0, ..., 32, 35, 41],\n",
              "       [ 1,  2,  2, ..., 73, 74, 82],\n",
              "       [ 0,  0,  2, ..., 65, 60, 62]])"
            ]
          },
          "metadata": {},
          "execution_count": 14
        }
      ]
    },
    {
      "cell_type": "code",
      "source": [
        "previsores.shape"
      ],
      "metadata": {
        "colab": {
          "base_uri": "https://localhost:8080/"
        },
        "id": "CSlvf5zYnIZn",
        "outputId": "603cf354-cc15-490d-bfe9-7593fe36c484"
      },
      "execution_count": null,
      "outputs": [
        {
          "output_type": "execute_result",
          "data": {
            "text/plain": [
              "(1000, 8)"
            ]
          },
          "metadata": {},
          "execution_count": 15
        }
      ]
    },
    {
      "cell_type": "code",
      "source": [
        "alvo = df2.iloc[:, 7].values\n",
        "alvo"
      ],
      "metadata": {
        "colab": {
          "base_uri": "https://localhost:8080/"
        },
        "id": "1tWfcO01nLeq",
        "outputId": "5cdf75ef-6689-4523-d36f-63c1f44d192b"
      },
      "execution_count": null,
      "outputs": [
        {
          "output_type": "execute_result",
          "data": {
            "text/plain": [
              "array([ 63,  55,  50,  68,  68,  76,  63,  84,  65,  45,  85,  90,  85,\n",
              "        73,  85,  57,  42,  65,  44,  31,  88,  55,  73,  54,  32,  42,\n",
              "        56,  60,  89,  51,  77,  73,  39,  71,  89,  74,  75,  54,  73,\n",
              "        77,  72,  64,  82,  70,  87,  51,  57,  78,  73,  57,  64,  60,\n",
              "        85,  49,  47,  62,  84,  83,  51,  48,  68,  59,  62,  78,  97,\n",
              "        70,  56,  49,  60,  57,  73,  47,  63,  81,  67,  70,  59,  81,\n",
              "        76,  45,  62,  42,  59,  73,  39,  69,  69,  88,  61,  72,  42,\n",
              "        70,  87,  93,  72,  67, 100,  49,  49,  53,  62,  79,  77,  67,\n",
              "        58,  82,  73,  44,  71,  33,  86,  47,  71,  33,  74,  76,  63,\n",
              "        55,  58,  87,  71,  89,  62,  45,  86,  58,  64,  45,  87, 100,\n",
              "        82,  64,  57,  56,  54,  69,  76,  68,  49,  64,  57,  83,  87,\n",
              "        60,  68,  57,  66,  46, 100,  44,  80,  59,  76,  73,  58,  47,\n",
              "        59,  87,  93,  79,  97,  65,  91,  75,  70,  92,  58,  68,  93,\n",
              "        83,  59,  76,  71,  62,  72,  60,  56,  51,  95,  86,  64,  49,\n",
              "        89,  76,  87,  99,  67,  59,  64,  53,  53,  51,  61,  89,  66,\n",
              "        48,  48,  51,  70,  65,  65,  47,  70,  67,  82,  75,  84,  81,\n",
              "        84,  66,  68,  85,  70,  64,  77,  60,  66,  77,  68,  62,  83,\n",
              "        74,  44,  83,  97,  72,  39,  73,  81,  82,  78,  70,  33,  72,\n",
              "        82,  90,  64,  96,  64,  75,  82,  83,  58,  63,  28,  71,  42,\n",
              "        61,  52,  80,  71,  70,  61,  65,  54,  59,  74,  67,  70,  89,\n",
              "        62,  50,  50,  63,  88,  64,  70,  77,  62,  72,  71,  72,  65,\n",
              "        93,  92,  79,  70,  77,  47,  66,  80, 100,  66,  39,  49,  80,\n",
              "        84,  42,  77,  59,  76,  82,  66,  70,  60,  86,  46,  52,  50,\n",
              "        39,  24,  40,  49,  66,  66,  60,  63,  67,  73,  75,  70,  53,\n",
              "        43,  80,  63,  94,  64,  81,  89,  79,  49,  81,  54,  85,  80,\n",
              "        64,  78,  60,  59,  65,  71,  81,  43,  82,  40,  72,  58,  49,\n",
              "        62,  80,  58,  47,  54,  61,  79,  54,  87,  72,  64,  92,  64,\n",
              "        47,  84,  67,  68,  51,  68,  64,  68,  48,  83,  43,  66,  77,\n",
              "        65,  67,  60,  64,  60,  74,  76,  76,  73,  56,  84,  64,  89,\n",
              "        42,  90,  90,  43,  94,  76,  81,  79,  87,  50,  61,  78,  78,\n",
              "        64,  51,  23,  56,  54,  83, 100,  86,  83,  69,  75,  67,  73,\n",
              "        66,  79,  56,  85,  68,  43,  71,  58,  72,  61,  61,  61,  64,\n",
              "        59,  68,  59,  33,  63,  70,  38,  74,  30,  78,  66,  73,  47,\n",
              "        76,  85,  71,  72,  93,  66,  83,  69,  44,  90,  66,  62, 100,\n",
              "        61,  35,  95,  66,  71,  64,  53,  75,  64,  51,  88,  46,  77,\n",
              "        60,  89,  82,  59,  60,  56,  41,  50,  71,  60,  58,  82,  63,\n",
              "        69,  53,  96,  79,  68,  43,  65,  71,  78,  59,  68,  45,  84,\n",
              "        83,  83,  82,  89,  96,  60,  58,  74,  75,  74,  76,  49,  76,\n",
              "        60,  60,  28,  66,  93,  81,  63,  92,  59,  72,  53,  86,  63,\n",
              "        55,  57,  72,  71,  86,  71,  89,  72,  56,  48,  32,  82,  93,\n",
              "        82,  82,  71,  78,  48,  66,  71,  97,  59,  71,  88,  73,  56,\n",
              "        73,  86,  90,  63,  76,  72,  68,  76,  79,  86,  60,  85,  76,\n",
              "        63,  50,  43,  53, 100,  65,  98,  66,  73,  48,  35,  62,  81,\n",
              "        36,  57,  60,  73,  66,  94,  83,  53,  87,  27,  66,  60,  94,\n",
              "        43,  76,  56,  94,  52,  62,  71,  50,  82,  68,  75,  79,  88,\n",
              "        64,  74,  89,  89,  71,  75, 100,  66, 100,  62,  54,  90,  54,\n",
              "        40,  90,  56,  76,  45,  71, 100,  36,  77,  65,  50,  70,  54,\n",
              "        78,  69,  82,  64,  48,  97,  64,  53,  68,  57,  52,  84,  82,\n",
              "        80,  59, 100,  85,  76,  54,  73,  58,  54,  53, 100,  92,  56,\n",
              "        68,  80,  65,  84,  69,  65,  63,  49,  60,  78,  71,  91,  40,\n",
              "        71,  70,  97,  36,  56,  78,  74,  66,  72,  48,  97,  69,  95,\n",
              "        75,  79,  73,  89,  61,  44,  46,  35,  86,  45,  69,  60,  65,\n",
              "        62,  75,  70,  59,  48,  47,  76,  62,  70,  56,  62,  71,  71,\n",
              "        26,  92,  80,  84,  53,  90,  62,  63,  73,  75,  74,  34,  43,\n",
              "        71,  69,  72,  66, 100,  82,  81,  60,  59,  73,  41,  58,  75,\n",
              "        59,  90,  41,  62,  43,  42,  95,  56,  62,  57,  49,  86,  66,\n",
              "        61,  37,  81,  71,  86,  66,  53,  93,  87,  81,  69,  75,  51,\n",
              "        67,  84,  95,  78,  72,  40,  87,  91,  66,  70,  93,  61,  54,\n",
              "       100,  77,  93,  60,  63,  83,  66,  73,  53,  90,  67,  49,  65,\n",
              "        83,  42,  63,  68,  85,  78,  76,  65,  31,  38,  68,  44,  47,\n",
              "       100,  80,  92,  63,  87,  57,  73,  87,  60,  62,  83,  71,  73,\n",
              "        71,  84,  44,  89,  61,  50,  54,  80,  63,  87,  48,  61,  48,\n",
              "        71,  64,  84,  52,  41,  56,  63,  62,  88,  64, 100,  73,  75,\n",
              "        70,  74,  64,  83,  65,  70, 100,  99,  78,  88,  35,  41,  47,\n",
              "        37,  78,  80,  79,  65,  63,  70,  88,  45,  70,  95,  86,  74,\n",
              "        64,  53,  65,  86,  68,  80,  80,  50,  72,  95, 100,  55,  97,\n",
              "        91,  79,  90,  89,  82,  63,  77,  71,  58,  82,  58,  54,  58,\n",
              "        52,  83,  60,  65,  54,  57,  66,  63,  50,  72,  87,  58,  80,\n",
              "        77,  23,  61,  75,  62,  80,  50,  70,  43,  51,  78,  85,  64,\n",
              "        69,  85,  27,  48,  68,  73,  58,  71,  77,  79,  64,  46,  69,\n",
              "        61,  55,  64,  67,  65,  69,  68,  69,  67,  79,  57,  74,  55,\n",
              "        61,  64,  59,  69,  65,  58,  79,  89,  44,  75,  65,  65,  72,\n",
              "        50,  41,  32,  57,  77,  79,  83,  66,  73,  55,  73,  64,  45,\n",
              "        65,  90,  78,  60,  70,  53,  81,  74,  54,  59,  83,  55,  84,\n",
              "        44,  71,  86,  89,  70,  99,  48,  52,  97,  44,  74,  67,  58,\n",
              "        70,  35,  65,  45,  68,  49,  48,  72,  47,  75,  67,  77,  74,\n",
              "        81,  65,  53,  88,  66,  58,  75,  65,  92,  41,  82,  62])"
            ]
          },
          "metadata": {},
          "execution_count": 16
        }
      ]
    },
    {
      "cell_type": "code",
      "source": [
        "alvo.shape"
      ],
      "metadata": {
        "colab": {
          "base_uri": "https://localhost:8080/"
        },
        "id": "mXlIquBJnQGl",
        "outputId": "aace1590-a8ef-4566-b6d1-6382777adeec"
      },
      "execution_count": null,
      "outputs": [
        {
          "output_type": "execute_result",
          "data": {
            "text/plain": [
              "(1000,)"
            ]
          },
          "metadata": {},
          "execution_count": 17
        }
      ]
    },
    {
      "cell_type": "code",
      "source": [
        "# Análise das escalas dos atributos (Escalonamento)\n",
        "df2.describe()"
      ],
      "metadata": {
        "colab": {
          "base_uri": "https://localhost:8080/",
          "height": 300
        },
        "id": "17u7nT0TnUlP",
        "outputId": "05a758b8-61a4-41f8-8301-b1a18bdcef7a"
      },
      "execution_count": null,
      "outputs": [
        {
          "output_type": "execute_result",
          "data": {
            "text/plain": [
              "            gender  race/ethnicity  parental level of education        lunch  \\\n",
              "count  1000.000000     1000.000000                  1000.000000  1000.000000   \n",
              "mean      0.483000        2.161000                     2.144000     0.348000   \n",
              "std       0.499961        1.132414                     1.581697     0.476574   \n",
              "min       0.000000        0.000000                     0.000000     0.000000   \n",
              "25%       0.000000        1.000000                     1.000000     0.000000   \n",
              "50%       0.000000        2.000000                     2.000000     0.000000   \n",
              "75%       1.000000        3.000000                     4.000000     1.000000   \n",
              "max       1.000000        4.000000                     5.000000     1.000000   \n",
              "\n",
              "       test preparation course   math score  reading score  writing score  \n",
              "count              1000.000000  1000.000000    1000.000000    1000.000000  \n",
              "mean                  0.665000    66.396000      69.002000      67.738000  \n",
              "std                   0.472227    15.402871      14.737272      15.600985  \n",
              "min                   0.000000    13.000000      27.000000      23.000000  \n",
              "25%                   0.000000    56.000000      60.000000      58.000000  \n",
              "50%                   1.000000    66.500000      70.000000      68.000000  \n",
              "75%                   1.000000    77.000000      79.000000      79.000000  \n",
              "max                   1.000000   100.000000     100.000000     100.000000  "
            ],
            "text/html": [
              "\n",
              "  <div id=\"df-2ab95439-664c-4a89-9d41-b50184088027\">\n",
              "    <div class=\"colab-df-container\">\n",
              "      <div>\n",
              "<style scoped>\n",
              "    .dataframe tbody tr th:only-of-type {\n",
              "        vertical-align: middle;\n",
              "    }\n",
              "\n",
              "    .dataframe tbody tr th {\n",
              "        vertical-align: top;\n",
              "    }\n",
              "\n",
              "    .dataframe thead th {\n",
              "        text-align: right;\n",
              "    }\n",
              "</style>\n",
              "<table border=\"1\" class=\"dataframe\">\n",
              "  <thead>\n",
              "    <tr style=\"text-align: right;\">\n",
              "      <th></th>\n",
              "      <th>gender</th>\n",
              "      <th>race/ethnicity</th>\n",
              "      <th>parental level of education</th>\n",
              "      <th>lunch</th>\n",
              "      <th>test preparation course</th>\n",
              "      <th>math score</th>\n",
              "      <th>reading score</th>\n",
              "      <th>writing score</th>\n",
              "    </tr>\n",
              "  </thead>\n",
              "  <tbody>\n",
              "    <tr>\n",
              "      <th>count</th>\n",
              "      <td>1000.000000</td>\n",
              "      <td>1000.000000</td>\n",
              "      <td>1000.000000</td>\n",
              "      <td>1000.000000</td>\n",
              "      <td>1000.000000</td>\n",
              "      <td>1000.000000</td>\n",
              "      <td>1000.000000</td>\n",
              "      <td>1000.000000</td>\n",
              "    </tr>\n",
              "    <tr>\n",
              "      <th>mean</th>\n",
              "      <td>0.483000</td>\n",
              "      <td>2.161000</td>\n",
              "      <td>2.144000</td>\n",
              "      <td>0.348000</td>\n",
              "      <td>0.665000</td>\n",
              "      <td>66.396000</td>\n",
              "      <td>69.002000</td>\n",
              "      <td>67.738000</td>\n",
              "    </tr>\n",
              "    <tr>\n",
              "      <th>std</th>\n",
              "      <td>0.499961</td>\n",
              "      <td>1.132414</td>\n",
              "      <td>1.581697</td>\n",
              "      <td>0.476574</td>\n",
              "      <td>0.472227</td>\n",
              "      <td>15.402871</td>\n",
              "      <td>14.737272</td>\n",
              "      <td>15.600985</td>\n",
              "    </tr>\n",
              "    <tr>\n",
              "      <th>min</th>\n",
              "      <td>0.000000</td>\n",
              "      <td>0.000000</td>\n",
              "      <td>0.000000</td>\n",
              "      <td>0.000000</td>\n",
              "      <td>0.000000</td>\n",
              "      <td>13.000000</td>\n",
              "      <td>27.000000</td>\n",
              "      <td>23.000000</td>\n",
              "    </tr>\n",
              "    <tr>\n",
              "      <th>25%</th>\n",
              "      <td>0.000000</td>\n",
              "      <td>1.000000</td>\n",
              "      <td>1.000000</td>\n",
              "      <td>0.000000</td>\n",
              "      <td>0.000000</td>\n",
              "      <td>56.000000</td>\n",
              "      <td>60.000000</td>\n",
              "      <td>58.000000</td>\n",
              "    </tr>\n",
              "    <tr>\n",
              "      <th>50%</th>\n",
              "      <td>0.000000</td>\n",
              "      <td>2.000000</td>\n",
              "      <td>2.000000</td>\n",
              "      <td>0.000000</td>\n",
              "      <td>1.000000</td>\n",
              "      <td>66.500000</td>\n",
              "      <td>70.000000</td>\n",
              "      <td>68.000000</td>\n",
              "    </tr>\n",
              "    <tr>\n",
              "      <th>75%</th>\n",
              "      <td>1.000000</td>\n",
              "      <td>3.000000</td>\n",
              "      <td>4.000000</td>\n",
              "      <td>1.000000</td>\n",
              "      <td>1.000000</td>\n",
              "      <td>77.000000</td>\n",
              "      <td>79.000000</td>\n",
              "      <td>79.000000</td>\n",
              "    </tr>\n",
              "    <tr>\n",
              "      <th>max</th>\n",
              "      <td>1.000000</td>\n",
              "      <td>4.000000</td>\n",
              "      <td>5.000000</td>\n",
              "      <td>1.000000</td>\n",
              "      <td>1.000000</td>\n",
              "      <td>100.000000</td>\n",
              "      <td>100.000000</td>\n",
              "      <td>100.000000</td>\n",
              "    </tr>\n",
              "  </tbody>\n",
              "</table>\n",
              "</div>\n",
              "      <button class=\"colab-df-convert\" onclick=\"convertToInteractive('df-2ab95439-664c-4a89-9d41-b50184088027')\"\n",
              "              title=\"Convert this dataframe to an interactive table.\"\n",
              "              style=\"display:none;\">\n",
              "        \n",
              "  <svg xmlns=\"http://www.w3.org/2000/svg\" height=\"24px\"viewBox=\"0 0 24 24\"\n",
              "       width=\"24px\">\n",
              "    <path d=\"M0 0h24v24H0V0z\" fill=\"none\"/>\n",
              "    <path d=\"M18.56 5.44l.94 2.06.94-2.06 2.06-.94-2.06-.94-.94-2.06-.94 2.06-2.06.94zm-11 1L8.5 8.5l.94-2.06 2.06-.94-2.06-.94L8.5 2.5l-.94 2.06-2.06.94zm10 10l.94 2.06.94-2.06 2.06-.94-2.06-.94-.94-2.06-.94 2.06-2.06.94z\"/><path d=\"M17.41 7.96l-1.37-1.37c-.4-.4-.92-.59-1.43-.59-.52 0-1.04.2-1.43.59L10.3 9.45l-7.72 7.72c-.78.78-.78 2.05 0 2.83L4 21.41c.39.39.9.59 1.41.59.51 0 1.02-.2 1.41-.59l7.78-7.78 2.81-2.81c.8-.78.8-2.07 0-2.86zM5.41 20L4 18.59l7.72-7.72 1.47 1.35L5.41 20z\"/>\n",
              "  </svg>\n",
              "      </button>\n",
              "      \n",
              "  <style>\n",
              "    .colab-df-container {\n",
              "      display:flex;\n",
              "      flex-wrap:wrap;\n",
              "      gap: 12px;\n",
              "    }\n",
              "\n",
              "    .colab-df-convert {\n",
              "      background-color: #E8F0FE;\n",
              "      border: none;\n",
              "      border-radius: 50%;\n",
              "      cursor: pointer;\n",
              "      display: none;\n",
              "      fill: #1967D2;\n",
              "      height: 32px;\n",
              "      padding: 0 0 0 0;\n",
              "      width: 32px;\n",
              "    }\n",
              "\n",
              "    .colab-df-convert:hover {\n",
              "      background-color: #E2EBFA;\n",
              "      box-shadow: 0px 1px 2px rgba(60, 64, 67, 0.3), 0px 1px 3px 1px rgba(60, 64, 67, 0.15);\n",
              "      fill: #174EA6;\n",
              "    }\n",
              "\n",
              "    [theme=dark] .colab-df-convert {\n",
              "      background-color: #3B4455;\n",
              "      fill: #D2E3FC;\n",
              "    }\n",
              "\n",
              "    [theme=dark] .colab-df-convert:hover {\n",
              "      background-color: #434B5C;\n",
              "      box-shadow: 0px 1px 3px 1px rgba(0, 0, 0, 0.15);\n",
              "      filter: drop-shadow(0px 1px 2px rgba(0, 0, 0, 0.3));\n",
              "      fill: #FFFFFF;\n",
              "    }\n",
              "  </style>\n",
              "\n",
              "      <script>\n",
              "        const buttonEl =\n",
              "          document.querySelector('#df-2ab95439-664c-4a89-9d41-b50184088027 button.colab-df-convert');\n",
              "        buttonEl.style.display =\n",
              "          google.colab.kernel.accessAllowed ? 'block' : 'none';\n",
              "\n",
              "        async function convertToInteractive(key) {\n",
              "          const element = document.querySelector('#df-2ab95439-664c-4a89-9d41-b50184088027');\n",
              "          const dataTable =\n",
              "            await google.colab.kernel.invokeFunction('convertToInteractive',\n",
              "                                                     [key], {});\n",
              "          if (!dataTable) return;\n",
              "\n",
              "          const docLinkHtml = 'Like what you see? Visit the ' +\n",
              "            '<a target=\"_blank\" href=https://colab.research.google.com/notebooks/data_table.ipynb>data table notebook</a>'\n",
              "            + ' to learn more about interactive tables.';\n",
              "          element.innerHTML = '';\n",
              "          dataTable['output_type'] = 'display_data';\n",
              "          await google.colab.output.renderOutput(dataTable, element);\n",
              "          const docLink = document.createElement('div');\n",
              "          docLink.innerHTML = docLinkHtml;\n",
              "          element.appendChild(docLink);\n",
              "        }\n",
              "      </script>\n",
              "    </div>\n",
              "  </div>\n",
              "  "
            ]
          },
          "metadata": {},
          "execution_count": 18
        }
      ]
    },
    {
      "cell_type": "code",
      "source": [
        "from sklearn.preprocessing import StandardScaler"
      ],
      "metadata": {
        "id": "4R0gIB20nfzC"
      },
      "execution_count": null,
      "outputs": []
    },
    {
      "cell_type": "code",
      "source": [
        "previsores_esc = StandardScaler().fit_transform(previsores)"
      ],
      "metadata": {
        "id": "K_frkFpAnh1s"
      },
      "execution_count": null,
      "outputs": []
    },
    {
      "cell_type": "code",
      "source": [
        "previsores_esc"
      ],
      "metadata": {
        "colab": {
          "base_uri": "https://localhost:8080/"
        },
        "id": "Qr4uROgqnmME",
        "outputId": "c2617588-f2fd-4084-a2b8-269447d52292"
      },
      "execution_count": null,
      "outputs": [
        {
          "output_type": "execute_result",
          "data": {
            "text/plain": [
              "array([[-0.96655883, -1.90926764, -0.72363566, ...,  0.03923309,\n",
              "        -0.13591401, -0.30385073],\n",
              "       [ 1.03459817,  0.74126587, -1.35618431, ..., -1.714564  ,\n",
              "        -0.67902695, -0.81689543],\n",
              "       [-0.96655883,  1.62477704, -0.09108701, ..., -0.48041049,\n",
              "        -0.61113783, -1.13754838],\n",
              "       ...,\n",
              "       [ 1.03459817, -0.1422453 , -1.35618431, ..., -2.23420758,\n",
              "        -2.30836575, -1.71472367],\n",
              "       [ 1.03459817, -0.1422453 , -0.09108701, ...,  0.42896578,\n",
              "         0.33930981,  0.91463045],\n",
              "       [-0.96655883, -1.90926764, -0.09108701, ..., -0.0906778 ,\n",
              "        -0.61113783, -0.36798132]])"
            ]
          },
          "metadata": {},
          "execution_count": 21
        }
      ]
    },
    {
      "cell_type": "code",
      "source": [
        "previsoresdf = pd.DataFrame(previsores_esc)\n",
        "previsoresdf"
      ],
      "metadata": {
        "colab": {
          "base_uri": "https://localhost:8080/",
          "height": 424
        },
        "id": "sy5ZnsO_ntBn",
        "outputId": "81d41178-31b6-4854-f85b-9b29812e4afe"
      },
      "execution_count": null,
      "outputs": [
        {
          "output_type": "execute_result",
          "data": {
            "text/plain": [
              "            0         1         2         3         4         5         6  \\\n",
              "0   -0.966559 -1.909268 -0.723636 -0.730577 -1.408927  0.039233 -0.135914   \n",
              "1    1.034598  0.741266 -1.356184  1.368782  0.709760 -1.714564 -0.679027   \n",
              "2   -0.966559  1.624777 -0.091087  1.368782  0.709760 -0.480410 -0.611138   \n",
              "3   -0.966559 -1.025756 -0.723636 -0.730577  0.709760  0.688788  0.610866   \n",
              "4   -0.966559  1.624777  1.174010 -0.730577 -1.408927  0.753743  0.271421   \n",
              "..        ...       ...       ...       ...       ...       ...       ...   \n",
              "995 -0.966559 -0.142245 -0.723636 -0.730577  0.709760  0.428966  0.067753   \n",
              "996 -0.966559  0.741266  1.174010  1.368782 -1.408927  1.208431  1.493425   \n",
              "997  1.034598 -0.142245 -1.356184  1.368782  0.709760 -2.234208 -2.308366   \n",
              "998  1.034598 -0.142245 -0.091087 -0.730577  0.709760  0.428966  0.339310   \n",
              "999 -0.966559 -1.909268 -0.091087 -0.730577 -1.408927 -0.090678 -0.611138   \n",
              "\n",
              "            7  \n",
              "0   -0.303851  \n",
              "1   -0.816895  \n",
              "2   -1.137548  \n",
              "3    0.016802  \n",
              "4    0.016802  \n",
              "..        ...  \n",
              "995 -0.175590  \n",
              "996  1.555936  \n",
              "997 -1.714724  \n",
              "998  0.914630  \n",
              "999 -0.367981  \n",
              "\n",
              "[1000 rows x 8 columns]"
            ],
            "text/html": [
              "\n",
              "  <div id=\"df-f2f72239-aa2d-4a90-a08b-9307349c9748\">\n",
              "    <div class=\"colab-df-container\">\n",
              "      <div>\n",
              "<style scoped>\n",
              "    .dataframe tbody tr th:only-of-type {\n",
              "        vertical-align: middle;\n",
              "    }\n",
              "\n",
              "    .dataframe tbody tr th {\n",
              "        vertical-align: top;\n",
              "    }\n",
              "\n",
              "    .dataframe thead th {\n",
              "        text-align: right;\n",
              "    }\n",
              "</style>\n",
              "<table border=\"1\" class=\"dataframe\">\n",
              "  <thead>\n",
              "    <tr style=\"text-align: right;\">\n",
              "      <th></th>\n",
              "      <th>0</th>\n",
              "      <th>1</th>\n",
              "      <th>2</th>\n",
              "      <th>3</th>\n",
              "      <th>4</th>\n",
              "      <th>5</th>\n",
              "      <th>6</th>\n",
              "      <th>7</th>\n",
              "    </tr>\n",
              "  </thead>\n",
              "  <tbody>\n",
              "    <tr>\n",
              "      <th>0</th>\n",
              "      <td>-0.966559</td>\n",
              "      <td>-1.909268</td>\n",
              "      <td>-0.723636</td>\n",
              "      <td>-0.730577</td>\n",
              "      <td>-1.408927</td>\n",
              "      <td>0.039233</td>\n",
              "      <td>-0.135914</td>\n",
              "      <td>-0.303851</td>\n",
              "    </tr>\n",
              "    <tr>\n",
              "      <th>1</th>\n",
              "      <td>1.034598</td>\n",
              "      <td>0.741266</td>\n",
              "      <td>-1.356184</td>\n",
              "      <td>1.368782</td>\n",
              "      <td>0.709760</td>\n",
              "      <td>-1.714564</td>\n",
              "      <td>-0.679027</td>\n",
              "      <td>-0.816895</td>\n",
              "    </tr>\n",
              "    <tr>\n",
              "      <th>2</th>\n",
              "      <td>-0.966559</td>\n",
              "      <td>1.624777</td>\n",
              "      <td>-0.091087</td>\n",
              "      <td>1.368782</td>\n",
              "      <td>0.709760</td>\n",
              "      <td>-0.480410</td>\n",
              "      <td>-0.611138</td>\n",
              "      <td>-1.137548</td>\n",
              "    </tr>\n",
              "    <tr>\n",
              "      <th>3</th>\n",
              "      <td>-0.966559</td>\n",
              "      <td>-1.025756</td>\n",
              "      <td>-0.723636</td>\n",
              "      <td>-0.730577</td>\n",
              "      <td>0.709760</td>\n",
              "      <td>0.688788</td>\n",
              "      <td>0.610866</td>\n",
              "      <td>0.016802</td>\n",
              "    </tr>\n",
              "    <tr>\n",
              "      <th>4</th>\n",
              "      <td>-0.966559</td>\n",
              "      <td>1.624777</td>\n",
              "      <td>1.174010</td>\n",
              "      <td>-0.730577</td>\n",
              "      <td>-1.408927</td>\n",
              "      <td>0.753743</td>\n",
              "      <td>0.271421</td>\n",
              "      <td>0.016802</td>\n",
              "    </tr>\n",
              "    <tr>\n",
              "      <th>...</th>\n",
              "      <td>...</td>\n",
              "      <td>...</td>\n",
              "      <td>...</td>\n",
              "      <td>...</td>\n",
              "      <td>...</td>\n",
              "      <td>...</td>\n",
              "      <td>...</td>\n",
              "      <td>...</td>\n",
              "    </tr>\n",
              "    <tr>\n",
              "      <th>995</th>\n",
              "      <td>-0.966559</td>\n",
              "      <td>-0.142245</td>\n",
              "      <td>-0.723636</td>\n",
              "      <td>-0.730577</td>\n",
              "      <td>0.709760</td>\n",
              "      <td>0.428966</td>\n",
              "      <td>0.067753</td>\n",
              "      <td>-0.175590</td>\n",
              "    </tr>\n",
              "    <tr>\n",
              "      <th>996</th>\n",
              "      <td>-0.966559</td>\n",
              "      <td>0.741266</td>\n",
              "      <td>1.174010</td>\n",
              "      <td>1.368782</td>\n",
              "      <td>-1.408927</td>\n",
              "      <td>1.208431</td>\n",
              "      <td>1.493425</td>\n",
              "      <td>1.555936</td>\n",
              "    </tr>\n",
              "    <tr>\n",
              "      <th>997</th>\n",
              "      <td>1.034598</td>\n",
              "      <td>-0.142245</td>\n",
              "      <td>-1.356184</td>\n",
              "      <td>1.368782</td>\n",
              "      <td>0.709760</td>\n",
              "      <td>-2.234208</td>\n",
              "      <td>-2.308366</td>\n",
              "      <td>-1.714724</td>\n",
              "    </tr>\n",
              "    <tr>\n",
              "      <th>998</th>\n",
              "      <td>1.034598</td>\n",
              "      <td>-0.142245</td>\n",
              "      <td>-0.091087</td>\n",
              "      <td>-0.730577</td>\n",
              "      <td>0.709760</td>\n",
              "      <td>0.428966</td>\n",
              "      <td>0.339310</td>\n",
              "      <td>0.914630</td>\n",
              "    </tr>\n",
              "    <tr>\n",
              "      <th>999</th>\n",
              "      <td>-0.966559</td>\n",
              "      <td>-1.909268</td>\n",
              "      <td>-0.091087</td>\n",
              "      <td>-0.730577</td>\n",
              "      <td>-1.408927</td>\n",
              "      <td>-0.090678</td>\n",
              "      <td>-0.611138</td>\n",
              "      <td>-0.367981</td>\n",
              "    </tr>\n",
              "  </tbody>\n",
              "</table>\n",
              "<p>1000 rows × 8 columns</p>\n",
              "</div>\n",
              "      <button class=\"colab-df-convert\" onclick=\"convertToInteractive('df-f2f72239-aa2d-4a90-a08b-9307349c9748')\"\n",
              "              title=\"Convert this dataframe to an interactive table.\"\n",
              "              style=\"display:none;\">\n",
              "        \n",
              "  <svg xmlns=\"http://www.w3.org/2000/svg\" height=\"24px\"viewBox=\"0 0 24 24\"\n",
              "       width=\"24px\">\n",
              "    <path d=\"M0 0h24v24H0V0z\" fill=\"none\"/>\n",
              "    <path d=\"M18.56 5.44l.94 2.06.94-2.06 2.06-.94-2.06-.94-.94-2.06-.94 2.06-2.06.94zm-11 1L8.5 8.5l.94-2.06 2.06-.94-2.06-.94L8.5 2.5l-.94 2.06-2.06.94zm10 10l.94 2.06.94-2.06 2.06-.94-2.06-.94-.94-2.06-.94 2.06-2.06.94z\"/><path d=\"M17.41 7.96l-1.37-1.37c-.4-.4-.92-.59-1.43-.59-.52 0-1.04.2-1.43.59L10.3 9.45l-7.72 7.72c-.78.78-.78 2.05 0 2.83L4 21.41c.39.39.9.59 1.41.59.51 0 1.02-.2 1.41-.59l7.78-7.78 2.81-2.81c.8-.78.8-2.07 0-2.86zM5.41 20L4 18.59l7.72-7.72 1.47 1.35L5.41 20z\"/>\n",
              "  </svg>\n",
              "      </button>\n",
              "      \n",
              "  <style>\n",
              "    .colab-df-container {\n",
              "      display:flex;\n",
              "      flex-wrap:wrap;\n",
              "      gap: 12px;\n",
              "    }\n",
              "\n",
              "    .colab-df-convert {\n",
              "      background-color: #E8F0FE;\n",
              "      border: none;\n",
              "      border-radius: 50%;\n",
              "      cursor: pointer;\n",
              "      display: none;\n",
              "      fill: #1967D2;\n",
              "      height: 32px;\n",
              "      padding: 0 0 0 0;\n",
              "      width: 32px;\n",
              "    }\n",
              "\n",
              "    .colab-df-convert:hover {\n",
              "      background-color: #E2EBFA;\n",
              "      box-shadow: 0px 1px 2px rgba(60, 64, 67, 0.3), 0px 1px 3px 1px rgba(60, 64, 67, 0.15);\n",
              "      fill: #174EA6;\n",
              "    }\n",
              "\n",
              "    [theme=dark] .colab-df-convert {\n",
              "      background-color: #3B4455;\n",
              "      fill: #D2E3FC;\n",
              "    }\n",
              "\n",
              "    [theme=dark] .colab-df-convert:hover {\n",
              "      background-color: #434B5C;\n",
              "      box-shadow: 0px 1px 3px 1px rgba(0, 0, 0, 0.15);\n",
              "      filter: drop-shadow(0px 1px 2px rgba(0, 0, 0, 0.3));\n",
              "      fill: #FFFFFF;\n",
              "    }\n",
              "  </style>\n",
              "\n",
              "      <script>\n",
              "        const buttonEl =\n",
              "          document.querySelector('#df-f2f72239-aa2d-4a90-a08b-9307349c9748 button.colab-df-convert');\n",
              "        buttonEl.style.display =\n",
              "          google.colab.kernel.accessAllowed ? 'block' : 'none';\n",
              "\n",
              "        async function convertToInteractive(key) {\n",
              "          const element = document.querySelector('#df-f2f72239-aa2d-4a90-a08b-9307349c9748');\n",
              "          const dataTable =\n",
              "            await google.colab.kernel.invokeFunction('convertToInteractive',\n",
              "                                                     [key], {});\n",
              "          if (!dataTable) return;\n",
              "\n",
              "          const docLinkHtml = 'Like what you see? Visit the ' +\n",
              "            '<a target=\"_blank\" href=https://colab.research.google.com/notebooks/data_table.ipynb>data table notebook</a>'\n",
              "            + ' to learn more about interactive tables.';\n",
              "          element.innerHTML = '';\n",
              "          dataTable['output_type'] = 'display_data';\n",
              "          await google.colab.output.renderOutput(dataTable, element);\n",
              "          const docLink = document.createElement('div');\n",
              "          docLink.innerHTML = docLinkHtml;\n",
              "          element.appendChild(docLink);\n",
              "        }\n",
              "      </script>\n",
              "    </div>\n",
              "  </div>\n",
              "  "
            ]
          },
          "metadata": {},
          "execution_count": 22
        }
      ]
    },
    {
      "cell_type": "markdown",
      "source": [
        "RESUMO PRÉ-PROCESSAMENTO\n",
        "\n",
        "alvo = variável que se pretende atingir.\n",
        "\n",
        "previsores = conjunto de variáveis previsoras com as variáveis categóricas transformadas em numéricas manualmente, sem escalonar.\n",
        "\n",
        "previsores_esc = conjunto de variáveis previsoras com as variáveis categóricas transformadas em numéricas, escalonada."
      ],
      "metadata": {
        "id": "rAKzHFLmn51L"
      }
    },
    {
      "cell_type": "code",
      "source": [
        "# BASE DE TREINO E TESTE\n",
        "from sklearn.model_selection import train_test_split"
      ],
      "metadata": {
        "id": "N9KijU06n7ve"
      },
      "execution_count": null,
      "outputs": []
    },
    {
      "cell_type": "code",
      "source": [
        "x_treino, x_teste, y_treino, y_teste = train_test_split(previsores_esc, alvo, test_size = 0.3, random_state = 0)"
      ],
      "metadata": {
        "id": "iITmwHjUoIxs"
      },
      "execution_count": null,
      "outputs": []
    },
    {
      "cell_type": "code",
      "source": [
        "x_treino.shape"
      ],
      "metadata": {
        "colab": {
          "base_uri": "https://localhost:8080/"
        },
        "id": "1pVM4BsioMyS",
        "outputId": "0a2cc365-b09b-4553-88a1-48199fb3e032"
      },
      "execution_count": null,
      "outputs": [
        {
          "output_type": "execute_result",
          "data": {
            "text/plain": [
              "(700, 8)"
            ]
          },
          "metadata": {},
          "execution_count": 25
        }
      ]
    },
    {
      "cell_type": "code",
      "source": [
        "x_teste.shape"
      ],
      "metadata": {
        "colab": {
          "base_uri": "https://localhost:8080/"
        },
        "id": "LScEbzQZoPbp",
        "outputId": "277fe410-0b69-45ed-c0a8-9f1e5be203fa"
      },
      "execution_count": null,
      "outputs": [
        {
          "output_type": "execute_result",
          "data": {
            "text/plain": [
              "(300, 8)"
            ]
          },
          "metadata": {},
          "execution_count": 26
        }
      ]
    },
    {
      "cell_type": "code",
      "source": [
        "y_treino.shape"
      ],
      "metadata": {
        "colab": {
          "base_uri": "https://localhost:8080/"
        },
        "id": "mrASZ4fkoSKF",
        "outputId": "7e051f0c-b470-4e37-d24e-2826253b3c08"
      },
      "execution_count": null,
      "outputs": [
        {
          "output_type": "execute_result",
          "data": {
            "text/plain": [
              "(700,)"
            ]
          },
          "metadata": {},
          "execution_count": 27
        }
      ]
    },
    {
      "cell_type": "code",
      "source": [
        "y_teste.shape"
      ],
      "metadata": {
        "colab": {
          "base_uri": "https://localhost:8080/"
        },
        "id": "zLp02lhKoTTa",
        "outputId": "d93f5264-91f6-49b6-a1cb-1f7b29f14c69"
      },
      "execution_count": null,
      "outputs": [
        {
          "output_type": "execute_result",
          "data": {
            "text/plain": [
              "(300,)"
            ]
          },
          "metadata": {},
          "execution_count": 28
        }
      ]
    },
    {
      "cell_type": "markdown",
      "source": [
        "Random Forest"
      ],
      "metadata": {
        "id": "sK0WQt-doaYi"
      }
    },
    {
      "cell_type": "code",
      "source": [
        "from sklearn.ensemble import RandomForestClassifier"
      ],
      "metadata": {
        "id": "xlPoXmevoc7s"
      },
      "execution_count": null,
      "outputs": []
    },
    {
      "cell_type": "code",
      "source": [
        "random = RandomForestClassifier(n_estimators=150, criterion='entropy', random_state = 0, max_depth=4)\n",
        "random.fit(x_treino, y_treino)"
      ],
      "metadata": {
        "colab": {
          "base_uri": "https://localhost:8080/"
        },
        "id": "twhFWuN7ojqc",
        "outputId": "24abcf02-9772-4aa1-e752-5b149ff4b03f"
      },
      "execution_count": null,
      "outputs": [
        {
          "output_type": "execute_result",
          "data": {
            "text/plain": [
              "RandomForestClassifier(criterion='entropy', max_depth=4, n_estimators=150,\n",
              "                       random_state=0)"
            ]
          },
          "metadata": {},
          "execution_count": 30
        }
      ]
    },
    {
      "cell_type": "code",
      "source": [
        "previsoes_random = random.predict(x_teste)\n",
        "previsoes_random"
      ],
      "metadata": {
        "colab": {
          "base_uri": "https://localhost:8080/"
        },
        "id": "Gg4Vju_PoloB",
        "outputId": "e384cc4e-3b59-4b4f-9f41-19e5973b1487"
      },
      "execution_count": null,
      "outputs": [
        {
          "output_type": "execute_result",
          "data": {
            "text/plain": [
              "array([ 58,  78,  58,  66,  49,  48,  64,  71,  64, 100,  40,  76,  87,\n",
              "        76,  71,  62,  79,  60,  86,  84,  71,  83,  70,  53,  79,  64,\n",
              "        47,  64,  66,  53,  65,  60,  64,  83,  42, 100,  54,  60,  64,\n",
              "        76,  84, 100,  87,  75,  71,  66,  71,  71,  64,  89,  78,  84,\n",
              "        53,  70,  81,  71,  64,  71,  76,  84,  66,  64,  87,  71,  62,\n",
              "        47,  82,  71,  64,  47,  71,  43,  54,  64,  71,  60,  78,  78,\n",
              "        71,  58,  47,  90,  53,  70,  71,  53,  64, 100,  66,  64,  87,\n",
              "        64,  62,  64,  80, 100,  42,  72,  64,  47,  56,  58,  70,  73,\n",
              "        81,  56,  87,  64,  58,  75,  49,  76,  83,  84,  58,  87,  76,\n",
              "        75,  71, 100, 100,  71,  62,  71,  68,  71,  71,  42,  58,  47,\n",
              "        64,  70,  89,  58,  54,  80,  42,  64,  71,  58,  78,  47,  81,\n",
              "        78,  47,  47,  78,  79,  54,  89,  71,  76,  64,  64,  72,  54,\n",
              "        83,  64, 100,  83,  83,  78,  70,  75,  66, 100,  53,  82,  47,\n",
              "        58,  56,  44,  58, 100,  47, 100,  84, 100,  66,  68,  83,  62,\n",
              "        64, 100,  64,  54,  42,  59,  76,  83,  79,  43,  84,  76,  64,\n",
              "        58,  53,  60,  42,  75,  71,  64,  47,  68,  72,  60, 100,  47,\n",
              "        78,  78,  42,  71,  54,  76,  84,  64, 100,  59,  70,  64,  47,\n",
              "        64,  86,  71,  84,  59, 100,  71,  43,  79, 100,  71,  84,  84,\n",
              "        64,  47,  47, 100,  71,  47,  89,  90,  64,  64, 100,  53,  68,\n",
              "        54,  68,  64,  66,  64,  71,  54,  72,  73,  72,  60,  58,  70,\n",
              "        73,  47,  71,  58,  73,  47,  71,  84,  54,  59,  71,  66,  64,\n",
              "        89,  48,  53,  83,  49,  42,  71,  73,  71,  82, 100,  66,  76,\n",
              "        53,  53,  58,  47,  71,  68,  42,  53,  42,  64,  72,  71,  71,\n",
              "        86])"
            ]
          },
          "metadata": {},
          "execution_count": 31
        }
      ]
    },
    {
      "cell_type": "code",
      "source": [
        "y_teste"
      ],
      "metadata": {
        "colab": {
          "base_uri": "https://localhost:8080/"
        },
        "id": "kgrexBbPosty",
        "outputId": "03a68093-8ef0-40d0-8b03-24d457b577d3"
      },
      "execution_count": null,
      "outputs": [
        {
          "output_type": "execute_result",
          "data": {
            "text/plain": [
              "array([ 58,  79,  50,  66,  45,  44,  60,  70,  63, 100,  28,  81,  87,\n",
              "        75,  71,  62,  79,  60,  85,  81,  73,  83,  70,  53,  80,  60,\n",
              "        51,  67,  66,  55,  65,  59,  64,  83,  43,  87,  54,  60,  67,\n",
              "        77,  78,  92,  92,  75,  70,  63,  70,  83,  64,  89,  81,  86,\n",
              "        50,  72,  82,  75,  65,  71,  74,  79,  66,  63,  87,  70,  61,\n",
              "        48,  88,  73,  61,  52,  69,  39,  51,  61,  69,  61,  78,  89,\n",
              "        76,  56,  50,  89,  50,  72,  69,  53,  64,  92,  66,  65,  88,\n",
              "        60,  61,  66,  80,  96,  27,  71,  64,  49,  57,  60,  70,  73,\n",
              "        81,  56,  89,  62,  59,  77,  49,  79,  82,  78,  59,  87,  76,\n",
              "        76,  75,  89, 100,  71,  62,  73,  68,  74,  73,  39,  57,  50,\n",
              "        60,  73,  90,  58,  54,  80,  43,  65,  71,  57,  79,  48,  82,\n",
              "        80,  47,  30,  79,  83,  47,  89,  72,  77,  66,  60,  70,  53,\n",
              "        82,  66,  90,  82,  82,  77,  71,  77,  65,  90,  49,  83,  47,\n",
              "        59,  55,  44,  57,  99,  49,  93,  82,  91,  61,  68,  83,  62,\n",
              "        63,  94,  65,  55,  41,  59,  76,  82,  80,  37,  83,  76,  63,\n",
              "        59,  56,  60,  36,  80,  71,  63,  43,  68,  73,  57,  88,  48,\n",
              "        82,  77,  33,  69,  54,  78,  85,  66,  93,  58,  72,  64,  48,\n",
              "        66,  86,  70,  85,  60, 100,  71,  44,  78,  97,  73,  84,  84,\n",
              "        62,  45,  48,  89,  70,  49,  90,  89,  65,  65,  88,  50,  68,\n",
              "        50,  68,  62,  65,  61,  69,  52,  70,  73,  72,  58,  57,  73,\n",
              "        73,  49,  69,  57,  75,  45,  72,  79,  54,  59,  73,  62,  64,\n",
              "        91,  49,  55,  82,  48,  35,  71,  74,  71,  84,  97,  65,  77,\n",
              "        50,  54,  59,  44,  69,  68,  40,  55,  34,  68,  82,  75,  76,\n",
              "        85])"
            ]
          },
          "metadata": {},
          "execution_count": 32
        }
      ]
    },
    {
      "cell_type": "code",
      "source": [
        "from sklearn.metrics import accuracy_score, confusion_matrix, classification_report"
      ],
      "metadata": {
        "id": "QWNDO_HeowM3"
      },
      "execution_count": null,
      "outputs": []
    },
    {
      "cell_type": "code",
      "source": [
        "print(\"Acurácia: %.2f%%\" % (accuracy_score(y_teste, previsoes_random) * 100.0))"
      ],
      "metadata": {
        "colab": {
          "base_uri": "https://localhost:8080/"
        },
        "id": "q3z9CKLZo0kv",
        "outputId": "ef271d65-a98d-4155-81bc-2e6dbaffddb1"
      },
      "execution_count": null,
      "outputs": [
        {
          "output_type": "stream",
          "name": "stdout",
          "text": [
            "Acurácia: 25.00%\n"
          ]
        }
      ]
    },
    {
      "cell_type": "code",
      "source": [
        "confusion_matrix(y_teste, previsoes_random)"
      ],
      "metadata": {
        "colab": {
          "base_uri": "https://localhost:8080/"
        },
        "id": "oqt-YQFlo6GV",
        "outputId": "539a30ec-78af-477f-f0c2-a86a088e4193"
      },
      "execution_count": null,
      "outputs": [
        {
          "output_type": "execute_result",
          "data": {
            "text/plain": [
              "array([[0, 0, 0, ..., 0, 0, 0],\n",
              "       [0, 0, 0, ..., 0, 0, 0],\n",
              "       [0, 0, 0, ..., 0, 0, 0],\n",
              "       ...,\n",
              "       [0, 0, 0, ..., 0, 0, 2],\n",
              "       [0, 0, 0, ..., 0, 0, 1],\n",
              "       [0, 0, 0, ..., 0, 0, 3]])"
            ]
          },
          "metadata": {},
          "execution_count": 35
        }
      ]
    },
    {
      "cell_type": "code",
      "source": [
        "print(classification_report(y_teste, previsoes_random))"
      ],
      "metadata": {
        "colab": {
          "base_uri": "https://localhost:8080/"
        },
        "id": "HmdxRC9io-9S",
        "outputId": "a31783ac-a7e6-4077-ccca-54b1b8a32219"
      },
      "execution_count": null,
      "outputs": [
        {
          "output_type": "stream",
          "name": "stdout",
          "text": [
            "              precision    recall  f1-score   support\n",
            "\n",
            "          27       0.00      0.00      0.00         1\n",
            "          28       0.00      0.00      0.00         1\n",
            "          30       0.00      0.00      0.00         1\n",
            "          33       0.00      0.00      0.00         1\n",
            "          34       0.00      0.00      0.00         1\n",
            "          35       0.00      0.00      0.00         1\n",
            "          36       0.00      0.00      0.00         1\n",
            "          37       0.00      0.00      0.00         1\n",
            "          39       0.00      0.00      0.00         2\n",
            "          40       0.00      0.00      0.00         1\n",
            "          41       0.00      0.00      0.00         1\n",
            "          42       0.00      0.00      0.00         0\n",
            "          43       0.00      0.00      0.00         3\n",
            "          44       1.00      0.25      0.40         4\n",
            "          45       0.00      0.00      0.00         3\n",
            "          47       0.10      0.67      0.17         3\n",
            "          48       0.00      0.00      0.00         6\n",
            "          49       0.33      0.14      0.20         7\n",
            "          50       0.00      0.00      0.00         8\n",
            "          51       0.00      0.00      0.00         2\n",
            "          52       0.00      0.00      0.00         2\n",
            "          53       0.17      0.67      0.27         3\n",
            "          54       0.40      0.80      0.53         5\n",
            "          55       0.00      0.00      0.00         5\n",
            "          56       0.33      0.33      0.33         3\n",
            "          57       0.00      0.00      0.00         7\n",
            "          58       0.13      0.50      0.21         4\n",
            "          59       0.50      0.25      0.33         8\n",
            "          60       0.43      0.30      0.35        10\n",
            "          61       0.00      0.00      0.00         7\n",
            "          62       0.60      0.43      0.50         7\n",
            "          63       0.00      0.00      0.00         6\n",
            "          64       0.17      1.00      0.29         6\n",
            "          65       1.00      0.10      0.18        10\n",
            "          66       0.40      0.44      0.42         9\n",
            "          67       0.00      0.00      0.00         2\n",
            "          68       1.00      0.86      0.92         7\n",
            "          69       0.00      0.00      0.00         7\n",
            "          70       0.25      0.20      0.22        10\n",
            "          71       0.22      0.80      0.35        10\n",
            "          72       0.17      0.17      0.17         6\n",
            "          73       0.60      0.25      0.35        12\n",
            "          74       0.00      0.00      0.00         3\n",
            "          75       0.20      0.17      0.18         6\n",
            "          76       0.27      0.50      0.35         6\n",
            "          77       0.00      0.00      0.00         7\n",
            "          78       0.10      0.20      0.13         5\n",
            "          79       0.20      0.14      0.17         7\n",
            "          80       1.00      0.33      0.50         6\n",
            "          81       0.33      0.25      0.29         4\n",
            "          82       0.00      0.00      0.00        11\n",
            "          83       0.33      0.43      0.38         7\n",
            "          84       0.17      0.67      0.27         3\n",
            "          85       0.00      0.00      0.00         4\n",
            "          86       0.33      0.50      0.40         2\n",
            "          87       0.50      0.75      0.60         4\n",
            "          88       0.00      0.00      0.00         4\n",
            "          89       0.40      0.25      0.31         8\n",
            "          90       0.00      0.00      0.00         4\n",
            "          91       0.00      0.00      0.00         2\n",
            "          92       0.00      0.00      0.00         3\n",
            "          93       0.00      0.00      0.00         2\n",
            "          94       0.00      0.00      0.00         1\n",
            "          96       0.00      0.00      0.00         1\n",
            "          97       0.00      0.00      0.00         2\n",
            "          99       0.00      0.00      0.00         1\n",
            "         100       0.15      1.00      0.26         3\n",
            "\n",
            "    accuracy                           0.25       300\n",
            "   macro avg       0.18      0.20      0.15       300\n",
            "weighted avg       0.26      0.25      0.21       300\n",
            "\n"
          ]
        }
      ]
    },
    {
      "cell_type": "code",
      "source": [
        "# Análise dados de treino\n",
        "previsoes_treino = random.predict(x_treino)\n",
        "previsoes_treino"
      ],
      "metadata": {
        "colab": {
          "base_uri": "https://localhost:8080/"
        },
        "id": "EmHAfXKZpD5r",
        "outputId": "52e8915c-2f6e-45f2-93dd-349e26251b02"
      },
      "execution_count": null,
      "outputs": [
        {
          "output_type": "execute_result",
          "data": {
            "text/plain": [
              "array([ 82,  60,  45,  71,  66,  70,  78,  76,  64,  56,  42,  64,  71,\n",
              "        87,  76,  43,  64,  76,  47,  57,  86,  64,  76,  64,  70,  60,\n",
              "        71,  72,  64,  84,  64, 100, 100,  53,  86,  64,  86,  71,  71,\n",
              "        64,  60,  59,  58,  85,  87,  49,  47,  57, 100,  72,  83,  71,\n",
              "        68,  83,  84,  73,  64,  42,  54,  64,  78,  65,  72,  73,  62,\n",
              "        83,  71,  54,  81,  64,  67,  58,  59,  65,  58,  42,  71,  43,\n",
              "        89,  76,  82,  87,  70,  71,  43,  68,  89,  64,  53,  59,  62,\n",
              "        71,  64,  90,  74,  42,  79,  82,  64,  64,  86,  42,  69,  89,\n",
              "        59,  71,  87,  54, 100,  83, 100,  64,  62,  67,  42,  86,  71,\n",
              "       100,  64,  64,  56,  48,  78,  67,  47,  78,  41,  47,  58,  54,\n",
              "        79,  58,  54,  47,  84, 100,  62,  66,  64,  53,  62, 100,  90,\n",
              "        64,  62,  66,  42,  82,  47,  84,  71,  64,  83,  79,  84,  53,\n",
              "        64,  74,  75,  42,  42,  59,  76,  71,  83,  64,  82,  73,  83,\n",
              "       100,  89,  78,  58,  64,  53,  40,  84,  53,  60,  42,  71,  54,\n",
              "        56,  73,  84,  64,  66,  68,  81,  84,  44,  64,  45,  64,  75,\n",
              "        71,  53,  42,  79,  64,  58, 100,  86,  79,  66, 100,  67, 100,\n",
              "        73, 100,  58,  72,  62,  47,  87, 100,  64, 100, 100,  80,  81,\n",
              "        66,  72,  71,  64,  42,  78,  54,  89,  44,  81, 100,  83,  60,\n",
              "        76,  72,  71,  64,  71,  42, 100,  71,  68,  64,  64,  64,  53,\n",
              "        66,  68,  64,  71,  72,  54,  51,  66,  42,  64,  60,  43,  71,\n",
              "        72,  72,  47,  75,  42,  35,  78,  76,  78,  83,  83,  89,  71,\n",
              "        84,  56,  64,  89,  84,  73,  68,  84,  58,  47,  53,  78,  68,\n",
              "        84,  66,  73,  54,  86,  64,  75,  41, 100,  82,  75,  43,  42,\n",
              "        71,  70,  48,  53,  48,  42,  44,  42,  58,  73,  60,  75,  58,\n",
              "        48,  64,  66,  74,  87,  72,  71,  47,  66,  42,  53,  62,  71,\n",
              "        74,  66,  64,  62,  71,  64,  71,  42,  76,  48,  42,  71,  71,\n",
              "        47,  86,  58,  71,  49, 100,  66, 100,  71, 100,  48,  73,  78,\n",
              "        60,  88,  81, 100,  64,  65,  64,  78,  48,  51,  76,  64,  70,\n",
              "        70,  72,  42, 100,  59,  41,  76,  65,  84, 100,  48,  56, 100,\n",
              "       100,  90,  73,  83,  64,  66,  64, 100,  42,  85,  62,  58,  64,\n",
              "        54,  42,  64,  58,  72,  71,  58,  73,  58,  64,  60,  51,  72,\n",
              "        58,  47,  74,  56, 100,  72,  89,  64,  54,  78,  78,  53,  76,\n",
              "        71,  88,  54,  87,  76,  79,  53,  42,  60,  71,  58,  84,  47,\n",
              "        58,  70,  64,  76,  87,  53,  84,  53,  81,  56,  53,  49,  76,\n",
              "       100,  78,  47,  75,  77,  68,  82,  78,  44,  71,  71, 100,  49,\n",
              "        71, 100, 100,  70,  58,  64,  89,  43,  86,  71,  90,  82,  49,\n",
              "        42, 100,  66, 100, 100,  89,  47,  58,  81, 100, 100, 100,  58,\n",
              "       100,  80,  42,  66,  42,  53,  78,  89,  75,  53,  79,  69,  54,\n",
              "        64,  56,  60,  42,  86,  44,  76,  59,  64,  49,  41,  40,  64,\n",
              "        66,  64,  84,  83,  69,  53,  64,  58,  66,  42,  59,  48,  71,\n",
              "        39,  71,  56,  70,  71,  80,  84,  71,  89, 100,  87,  71,  83,\n",
              "        39,  79,  71,  72,  89,  41,  62,  67,  68,  90,  71,  71,  47,\n",
              "        75,  49,  54,  64,  89,  70,  73,  66, 100,  71,  62,  47,  53,\n",
              "        56,  48,  42,  82,  71,  54,  54,  49,  76,  71,  81,  47,  60,\n",
              "        70,  54,  62,  89, 100,  66, 100,  74,  78,  51,  64,  44,  66,\n",
              "        84,  68,  60,  47,  71,  56,  43,  71,  71, 100,  60,  53,  64,\n",
              "        58,  64,  64,  73,  66,  80,  64,  41,  53,  83,  75,  83,  64,\n",
              "        71,  59,  86,  47,  87,  58,  82, 100,  82,  64,  62,  64,  61,\n",
              "        82,  64,  78,  72, 100, 100,  74, 100,  68,  49,  75,  47,  87,\n",
              "        87,  89,  76,  58,  60,  71,  65,  60,  42,  75,  60,  84,  65,\n",
              "        74,  64,  71,  74,  64,  54,  48,  62,  70,  51,  53,  80,  53,\n",
              "        71,  65,  64,  76,  76,  71,  71,  64,  64,  71,  72,  68,  48,\n",
              "        72, 100,  64,  60,  66,  64, 100,  56,  68,  73,  90,  64, 100,\n",
              "        76,  64,  45,  48,  84, 100,  79,  64,  54,  42,  70])"
            ]
          },
          "metadata": {},
          "execution_count": 37
        }
      ]
    },
    {
      "cell_type": "code",
      "source": [
        "accuracy_score(y_treino, previsoes_treino)"
      ],
      "metadata": {
        "colab": {
          "base_uri": "https://localhost:8080/"
        },
        "id": "E6VU9m4lpNCk",
        "outputId": "75c3f214-3be2-467a-d306-1214f54511c7"
      },
      "execution_count": null,
      "outputs": [
        {
          "output_type": "execute_result",
          "data": {
            "text/plain": [
              "0.59"
            ]
          },
          "metadata": {},
          "execution_count": 38
        }
      ]
    },
    {
      "cell_type": "code",
      "source": [
        "confusion_matrix(y_treino, previsoes_treino)"
      ],
      "metadata": {
        "colab": {
          "base_uri": "https://localhost:8080/"
        },
        "id": "WpmxQ1rApRFi",
        "outputId": "060f13ac-3072-4d41-ddb5-b7ce29602399"
      },
      "execution_count": null,
      "outputs": [
        {
          "output_type": "execute_result",
          "data": {
            "text/plain": [
              "array([[ 0,  0,  0, ...,  0,  0,  0],\n",
              "       [ 0,  0,  0, ...,  0,  0,  0],\n",
              "       [ 0,  0,  0, ...,  0,  0,  0],\n",
              "       ...,\n",
              "       [ 0,  0,  0, ...,  0,  0,  1],\n",
              "       [ 0,  0,  0, ...,  0,  0,  2],\n",
              "       [ 0,  0,  0, ...,  0,  0, 15]])"
            ]
          },
          "metadata": {},
          "execution_count": 39
        }
      ]
    },
    {
      "cell_type": "markdown",
      "source": [
        "Random Forest - teste e treino = 85%"
      ],
      "metadata": {
        "id": "xB-2JuPapVuY"
      }
    }
  ]
}